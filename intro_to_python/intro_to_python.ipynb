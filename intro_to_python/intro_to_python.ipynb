{
 "cells": [
  {
   "cell_type": "markdown",
   "metadata": {},
   "source": [
    "# Mike Babb\n",
    "# babbm@uw.edu\n",
    "# February 7, 2019\n",
    "# Geog 461: Introduction to Python"
   ]
  },
  {
   "cell_type": "markdown",
   "metadata": {},
   "source": [
    "## Jupyter Notebook Tips"
   ]
  },
  {
   "cell_type": "code",
   "execution_count": null,
   "metadata": {},
   "outputs": [],
   "source": [
    "# command mode: blue highlight\n",
    "# edit mode: green highlight\n",
    "# press H in command mode to bring up the keyboard short cut menu\n",
    "# press \"ctrl+enter\" at the same time to run the cell\n",
    "# press the \"down arrow\" key to go to the cell below\n",
    "# press the \"up arrow\" key to go to the cell above\n",
    "# press \"enter\" to activate a cell\n",
    "\n",
    "# comments begin with a \"#\" character."
   ]
  },
  {
   "cell_type": "markdown",
   "metadata": {},
   "source": [
    "## hello world"
   ]
  },
  {
   "cell_type": "code",
   "execution_count": null,
   "metadata": {},
   "outputs": [],
   "source": [
    "#'Hello world' example"
   ]
  },
  {
   "cell_type": "code",
   "execution_count": null,
   "metadata": {},
   "outputs": [],
   "source": [
    "print('hello world')"
   ]
  },
  {
   "cell_type": "markdown",
   "metadata": {},
   "source": [
    "## working with numbers"
   ]
  },
  {
   "cell_type": "code",
   "execution_count": null,
   "metadata": {},
   "outputs": [],
   "source": [
    "# numbers: integers (whole numbers, no decimals)\n",
    "x = 1"
   ]
  },
  {
   "cell_type": "code",
   "execution_count": null,
   "metadata": {},
   "outputs": [],
   "source": [
    "x"
   ]
  },
  {
   "cell_type": "code",
   "execution_count": null,
   "metadata": {},
   "outputs": [],
   "source": [
    "# numbers: floats (floating point numbers, with decimals)\n",
    "x = 10.0"
   ]
  },
  {
   "cell_type": "code",
   "execution_count": null,
   "metadata": {},
   "outputs": [],
   "source": [
    "x"
   ]
  },
  {
   "cell_type": "code",
   "execution_count": null,
   "metadata": {},
   "outputs": [],
   "source": [
    "# addition\n",
    "y = 3"
   ]
  },
  {
   "cell_type": "code",
   "execution_count": null,
   "metadata": {},
   "outputs": [],
   "source": [
    "z = x + y"
   ]
  },
  {
   "cell_type": "code",
   "execution_count": null,
   "metadata": {},
   "outputs": [],
   "source": [
    "z"
   ]
  },
  {
   "cell_type": "code",
   "execution_count": null,
   "metadata": {},
   "outputs": [],
   "source": [
    "# division\n",
    "x / 2"
   ]
  },
  {
   "cell_type": "code",
   "execution_count": null,
   "metadata": {},
   "outputs": [],
   "source": [
    "x"
   ]
  },
  {
   "cell_type": "markdown",
   "metadata": {},
   "source": [
    "## working with strings"
   ]
  },
  {
   "cell_type": "code",
   "execution_count": null,
   "metadata": {},
   "outputs": [],
   "source": [
    "# strings: (alpha-numeric characters surrounded by single or double quotation marks)\n",
    "x = 'geography'"
   ]
  },
  {
   "cell_type": "code",
   "execution_count": null,
   "metadata": {},
   "outputs": [],
   "source": [
    "y = \"geography\""
   ]
  },
  {
   "cell_type": "code",
   "execution_count": null,
   "metadata": {},
   "outputs": [],
   "source": [
    "# test for equality\n",
    "x==y"
   ]
  },
  {
   "cell_type": "code",
   "execution_count": null,
   "metadata": {},
   "outputs": [],
   "source": [
    "# python is case sensitive for variable values and variable names\n",
    "y = 'Geography'"
   ]
  },
  {
   "cell_type": "code",
   "execution_count": null,
   "metadata": {},
   "outputs": [],
   "source": [
    "x==y"
   ]
  },
  {
   "cell_type": "code",
   "execution_count": null,
   "metadata": {},
   "outputs": [],
   "source": [
    "Y='geography'"
   ]
  },
  {
   "cell_type": "code",
   "execution_count": null,
   "metadata": {},
   "outputs": [],
   "source": [
    "y==Y"
   ]
  },
  {
   "cell_type": "code",
   "execution_count": null,
   "metadata": {},
   "outputs": [],
   "source": [
    "# can we add strings?\n",
    "z = x + y"
   ]
  },
  {
   "cell_type": "code",
   "execution_count": null,
   "metadata": {},
   "outputs": [],
   "source": [
    "# yes...\n",
    "z"
   ]
  },
  {
   "cell_type": "code",
   "execution_count": null,
   "metadata": {},
   "outputs": [],
   "source": [
    "# strings have many properties and methods!\n",
    "# please see this page for more information:\n",
    "# https://docs.python.org/3/library/stdtypes.html"
   ]
  },
  {
   "cell_type": "code",
   "execution_count": null,
   "metadata": {},
   "outputs": [],
   "source": [
    "# For example, determining the number of characters in the string.\n",
    "# This is called the length of the string.\n",
    "# We do this by calling the len() function.\n",
    "# Many objects have a len() function.\n",
    "len(x)"
   ]
  },
  {
   "cell_type": "code",
   "execution_count": null,
   "metadata": {},
   "outputs": [],
   "source": [
    "# In some sense, strings can be thought of as a list of characters\n",
    "# we can create a list of characters by the entering the following\n",
    "string_list = list(x)"
   ]
  },
  {
   "cell_type": "code",
   "execution_count": null,
   "metadata": {},
   "outputs": [],
   "source": [
    "string_list"
   ]
  },
  {
   "cell_type": "code",
   "execution_count": null,
   "metadata": {},
   "outputs": [],
   "source": [
    "# calling the list function breaks up the string!\n",
    "# we can call the same len() function to determine the length of our list.\n",
    "# It's the same as above\n",
    "len(string_list)"
   ]
  },
  {
   "cell_type": "code",
   "execution_count": null,
   "metadata": {},
   "outputs": [],
   "source": [
    "# this indicates we have a list nine items long"
   ]
  },
  {
   "cell_type": "code",
   "execution_count": null,
   "metadata": {},
   "outputs": [],
   "source": [
    "# an easy to tell what type of object we are working with\n",
    "type(string_list)"
   ]
  },
  {
   "cell_type": "code",
   "execution_count": null,
   "metadata": {},
   "outputs": [],
   "source": [
    "type(x)"
   ]
  },
  {
   "cell_type": "code",
   "execution_count": null,
   "metadata": {},
   "outputs": [],
   "source": [
    "# we can print each character in our list if we want\n",
    "for character in string_list:\n",
    "    print(character)"
   ]
  },
  {
   "cell_type": "code",
   "execution_count": null,
   "metadata": {},
   "outputs": [],
   "source": [
    "# or access individual items in our list"
   ]
  },
  {
   "cell_type": "code",
   "execution_count": null,
   "metadata": {},
   "outputs": [],
   "source": [
    "string_list[0] # the zeroeth character. notice the square brackets"
   ]
  },
  {
   "cell_type": "code",
   "execution_count": null,
   "metadata": {},
   "outputs": [],
   "source": [
    "string_list[-1] # the last character"
   ]
  },
  {
   "cell_type": "code",
   "execution_count": null,
   "metadata": {},
   "outputs": [],
   "source": [
    "string_list[8] # same as above"
   ]
  },
  {
   "cell_type": "markdown",
   "metadata": {},
   "source": [
    "## working with data"
   ]
  },
  {
   "cell_type": "code",
   "execution_count": null,
   "metadata": {},
   "outputs": [],
   "source": [
    "# So far we've entered data and values directly into a Jupyter Notbook cell. \n",
    "# What if we want to read data that exist elsewhere?\n",
    "# let's read in data pertaining to sex by age groups for places in Washington state during the 2013-2017 time period.\n",
    "# These data come from the ACS and were downloaded from American Fact Finder\n",
    "# https://factfinder.census.gov/faces/nav/jsf/pages/index.xhtml\n",
    "\n",
    "# we're working with Census Designated Places\n",
    "# https://www.census.gov/geo/reference/gtc/gtc_place.html"
   ]
  },
  {
   "cell_type": "code",
   "execution_count": null,
   "metadata": {},
   "outputs": [],
   "source": [
    "# we'll need three python libraries to help with this: os, pandas, and numpy"
   ]
  },
  {
   "cell_type": "code",
   "execution_count": null,
   "metadata": {},
   "outputs": [],
   "source": [
    "import os # operating system\n",
    "import pandas as pd # pd is just an alias for pandas\n",
    "import numpy as np # same with np"
   ]
  },
  {
   "cell_type": "markdown",
   "metadata": {},
   "source": [
    "# specify your netid"
   ]
  },
  {
   "cell_type": "code",
   "execution_count": null,
   "metadata": {},
   "outputs": [],
   "source": [
    "netid = 'babbm'"
   ]
  },
  {
   "cell_type": "code",
   "execution_count": null,
   "metadata": {},
   "outputs": [],
   "source": [
    "# First, we're going to create a string varible with the value of the directory we're working with\n",
    "file_path = os.path.join('C:/Users', netid, 'documents/intro_to_python-master/intro_to_python/aff_download')"
   ]
  },
  {
   "cell_type": "code",
   "execution_count": null,
   "metadata": {},
   "outputs": [],
   "source": [
    "# let's check it\n",
    "file_path"
   ]
  },
  {
   "cell_type": "code",
   "execution_count": null,
   "metadata": {},
   "outputs": [],
   "source": [
    "# specify the name of the file\n",
    "file_name = 'ACS_17_5YR_S0101_with_ann.csv'"
   ]
  },
  {
   "cell_type": "code",
   "execution_count": null,
   "metadata": {},
   "outputs": [],
   "source": [
    "# join the file path and file name together\n",
    "file_path_name = os.path.join(file_path, file_name)\n",
    "file_path_name"
   ]
  },
  {
   "cell_type": "markdown",
   "metadata": {},
   "source": [
    "### reading data using python's native file methods"
   ]
  },
  {
   "cell_type": "code",
   "execution_count": null,
   "metadata": {},
   "outputs": [],
   "source": [
    "# we're going to read our data by creating a file object with the following command\n",
    "data_file = open(file_path_name, 'r')"
   ]
  },
  {
   "cell_type": "code",
   "execution_count": null,
   "metadata": {},
   "outputs": [],
   "source": [
    "# let's print each line of our file\n",
    "for line in data_file:\n",
    "    print(line)"
   ]
  },
  {
   "cell_type": "code",
   "execution_count": null,
   "metadata": {},
   "outputs": [],
   "source": [
    "# lot's of data.\n",
    "# let's close our file, for now\n",
    "data_file.close()"
   ]
  },
  {
   "cell_type": "markdown",
   "metadata": {},
   "source": [
    "### reading data using pandas"
   ]
  },
  {
   "cell_type": "code",
   "execution_count": null,
   "metadata": {},
   "outputs": [],
   "source": [
    "# we know our data are rectangular and parsing that information by hand is going to take too much time\n",
    "# pandas to the rescue!\n",
    "# https://pandas.pydata.org/pandas-docs/stable/generated/pandas.read_csv.html\n",
    "# the dtype=np.str is telling pandas to read all of our data in as strings\n",
    "# this is necessary due to how AFF data are delivered to the end user. \n",
    "df = pd.read_csv(filepath_or_buffer=file_path_name, sep=',', header=0, dtype=np.str)"
   ]
  },
  {
   "cell_type": "code",
   "execution_count": null,
   "metadata": {},
   "outputs": [],
   "source": [
    "df.head()"
   ]
  },
  {
   "cell_type": "code",
   "execution_count": null,
   "metadata": {},
   "outputs": [],
   "source": [
    "# There is a lot going on here!\n",
    "# And it looks like the first line in our data file features the \n",
    "# stats software friendly names of columns and the second line features descriptive names.\n",
    "# This information is repeated in the ACS_17_5YR_S0101_metadata.csv file as well."
   ]
  },
  {
   "cell_type": "code",
   "execution_count": null,
   "metadata": {},
   "outputs": [],
   "source": [
    "# we'll access our data by integer location\n",
    "# https://pandas.pydata.org/pandas-docs/stable/generated/pandas.DataFrame.iloc.html\n",
    "# dataframes are zero-indexed. \n",
    "# we'll get lines 1 through the end\n",
    "df = df.iloc[1:]"
   ]
  },
  {
   "cell_type": "code",
   "execution_count": null,
   "metadata": {},
   "outputs": [],
   "source": [
    "df.head()"
   ]
  },
  {
   "cell_type": "markdown",
   "metadata": {},
   "source": [
    "### selecting and renaming columns"
   ]
  },
  {
   "cell_type": "code",
   "execution_count": null,
   "metadata": {},
   "outputs": [],
   "source": [
    "# 459 columns. that's a lot.\n",
    "# As we are working with survey data, we have the estimate (EST), and the margin of error (MOE) for value.\n",
    "# The metadata describes each one. "
   ]
  },
  {
   "cell_type": "code",
   "execution_count": null,
   "metadata": {},
   "outputs": [],
   "source": [
    "# It looks like we have a combination of upper and lower case column names.\n",
    "# let's convert everything to lower case to make things easier to work with"
   ]
  },
  {
   "cell_type": "code",
   "execution_count": null,
   "metadata": {},
   "outputs": [],
   "source": [
    "# get column names\n",
    "col_names = df.columns.tolist()"
   ]
  },
  {
   "cell_type": "code",
   "execution_count": null,
   "metadata": {},
   "outputs": [],
   "source": [
    "col_names"
   ]
  },
  {
   "cell_type": "code",
   "execution_count": null,
   "metadata": {},
   "outputs": [],
   "source": [
    "# let's use a loop and during each iteration convert the current column name to lower case\n",
    "# and append items to a new list\n",
    "new_col_names = [] # empty list to hold our output\n",
    "for cn in col_names:\n",
    "    new_cn = cn.lower()\n",
    "    new_col_names.append(new_cn)"
   ]
  },
  {
   "cell_type": "code",
   "execution_count": null,
   "metadata": {},
   "outputs": [],
   "source": [
    "new_col_names"
   ]
  },
  {
   "cell_type": "code",
   "execution_count": null,
   "metadata": {},
   "outputs": [],
   "source": [
    "# better.\n",
    "# another way to make lower case names is through list comprehension.\n",
    "# https://docs.python.org/3/tutorial/datastructures.html#list-comprehensions\n",
    "# one of python's more effective techniques\n",
    "# while the outcome is equivalent, it's often more tidy (and frequently faster)\n",
    "new_col_names = [cn.lower() for cn in col_names]"
   ]
  },
  {
   "cell_type": "code",
   "execution_count": null,
   "metadata": {},
   "outputs": [],
   "source": [
    "df.columns = new_col_names"
   ]
  },
  {
   "cell_type": "code",
   "execution_count": null,
   "metadata": {},
   "outputs": [],
   "source": [
    "df.head()"
   ]
  },
  {
   "cell_type": "code",
   "execution_count": null,
   "metadata": {},
   "outputs": [],
   "source": [
    "# We're producing the sex ratio.\n",
    "# We probably do not need all 459 columns.\n",
    "# Let's consult our metadata document, ACS_17_5YR_S0101_metadata.csv, to see if we can trim down our list of variables"
   ]
  },
  {
   "cell_type": "code",
   "execution_count": null,
   "metadata": {},
   "outputs": [],
   "source": [
    "# let's keep the following:\n",
    "# place identification variables, total population, total males, and total females\n",
    "col_names = ['geo.id', 'geo.id2', 'geo.display-label', 'hc01_est_vc01','hc03_est_vc01','hc05_est_vc01']"
   ]
  },
  {
   "cell_type": "code",
   "execution_count": null,
   "metadata": {},
   "outputs": [],
   "source": [
    "# let's create a copy of our data and work with only a subset\n",
    "# we'll selecting using a list of column names\n",
    "working_df = df[col_names]"
   ]
  },
  {
   "cell_type": "code",
   "execution_count": null,
   "metadata": {},
   "outputs": [],
   "source": [
    "working_df.head()"
   ]
  },
  {
   "cell_type": "code",
   "execution_count": null,
   "metadata": {},
   "outputs": [],
   "source": [
    "# let's rename some of our columns to help with producing the statistics of interest\n",
    "# we'll use a python dictionary to store how we will rename things\n",
    "# https://docs.python.org/3/tutorial/datastructures.html#dictionaries\n",
    "# other programming languages call these objects 'hash tables' or 'associative arrays'\n",
    "# https://en.wikipedia.org/wiki/Associative_array"
   ]
  },
  {
   "cell_type": "code",
   "execution_count": null,
   "metadata": {},
   "outputs": [],
   "source": [
    "rename_dictionary = {'hc01_est_vc01':'total_pop', 'hc03_est_vc01':'males', 'hc05_est_vc01':'females'}"
   ]
  },
  {
   "cell_type": "code",
   "execution_count": null,
   "metadata": {},
   "outputs": [],
   "source": [
    "# specify the input value and the dictionary will tell you the associated value/object\n",
    "rename_dictionary['hc01_est_vc01']"
   ]
  },
  {
   "cell_type": "code",
   "execution_count": null,
   "metadata": {},
   "outputs": [],
   "source": [
    "# rename\n",
    "working_df = working_df.rename(columns=rename_dictionary)"
   ]
  },
  {
   "cell_type": "code",
   "execution_count": null,
   "metadata": {},
   "outputs": [],
   "source": [
    "working_df.head()"
   ]
  },
  {
   "cell_type": "code",
   "execution_count": null,
   "metadata": {},
   "outputs": [],
   "source": [
    "# much better. "
   ]
  },
  {
   "cell_type": "markdown",
   "metadata": {},
   "source": [
    "### computing basic statistics"
   ]
  },
  {
   "cell_type": "code",
   "execution_count": null,
   "metadata": {},
   "outputs": [],
   "source": [
    "# how many people in Washington are there in total?\n",
    "working_df['total_pop'].sum()"
   ]
  },
  {
   "cell_type": "code",
   "execution_count": null,
   "metadata": {},
   "outputs": [],
   "source": [
    "# we just concatenated all of the strings together!\n",
    "# we need to change the data type first\n",
    "working_df['total_pop'] = working_df['total_pop'].astype(np.int32) # specify a 32-bit integer"
   ]
  },
  {
   "cell_type": "code",
   "execution_count": null,
   "metadata": {},
   "outputs": [],
   "source": [
    "working_df['total_pop'].sum()"
   ]
  },
  {
   "cell_type": "code",
   "execution_count": null,
   "metadata": {},
   "outputs": [],
   "source": [
    "# compare with more current estimates\n",
    "#https://www.census.gov/quickfacts/wa\n",
    "# 7,535,591 as of July 1, 2018\n",
    "# part of the differnce is due to what geography we are using: census designated places.\n",
    "# This mostly excludes rural populations and populations"
   ]
  },
  {
   "cell_type": "code",
   "execution_count": null,
   "metadata": {},
   "outputs": [],
   "source": [
    "# there we go...\n",
    "# what are some summary statistics at the place level?\n",
    "working_df['total_pop'].describe()"
   ]
  },
  {
   "cell_type": "code",
   "execution_count": null,
   "metadata": {},
   "outputs": [],
   "source": [
    "# how many males in total?\n",
    "working_df['males'] = working_df['males'].astype(np.int32)\n",
    "working_df['males'].sum()"
   ]
  },
  {
   "cell_type": "code",
   "execution_count": null,
   "metadata": {},
   "outputs": [],
   "source": [
    "# how many females?\n",
    "working_df['females'] = working_df['females'].astype(np.int32)\n",
    "working_df['females'].sum()"
   ]
  },
  {
   "cell_type": "code",
   "execution_count": null,
   "metadata": {},
   "outputs": [],
   "source": [
    "# more females than males - not surprising given that this is data for all ages\n",
    "# females tend to live longer than males"
   ]
  },
  {
   "cell_type": "markdown",
   "metadata": {},
   "source": [
    "### computing the all ages sex ratio"
   ]
  },
  {
   "cell_type": "code",
   "execution_count": null,
   "metadata": {},
   "outputs": [],
   "source": [
    "# compute the sex ratio: the number of males per 100 females\n",
    "working_df['sex_ratio'] = (working_df['males'] / working_df['females']) * 100"
   ]
  },
  {
   "cell_type": "code",
   "execution_count": null,
   "metadata": {},
   "outputs": [],
   "source": [
    "working_df['sex_ratio'].describe()"
   ]
  },
  {
   "cell_type": "code",
   "execution_count": null,
   "metadata": {},
   "outputs": [],
   "source": [
    "# the inf and NAN values usually indicate a division by zero error. Are there places with zero females?"
   ]
  },
  {
   "cell_type": "code",
   "execution_count": null,
   "metadata": {},
   "outputs": [],
   "source": [
    "working_df.head()"
   ]
  },
  {
   "cell_type": "markdown",
   "metadata": {},
   "source": [
    "### identifying outliers"
   ]
  },
  {
   "cell_type": "code",
   "execution_count": null,
   "metadata": {},
   "outputs": [],
   "source": [
    "# back to our descriptions\n",
    "working_df['males'].describe()"
   ]
  },
  {
   "cell_type": "code",
   "execution_count": null,
   "metadata": {},
   "outputs": [],
   "source": [
    "working_df['females'].describe()"
   ]
  },
  {
   "cell_type": "code",
   "execution_count": null,
   "metadata": {},
   "outputs": [],
   "source": [
    "working_df['total_pop'].describe()"
   ]
  },
  {
   "cell_type": "code",
   "execution_count": null,
   "metadata": {},
   "outputs": [],
   "source": [
    "# are there census designated places with zero people?\n",
    "working_df[working_df['total_pop']==0].head()"
   ]
  },
  {
   "cell_type": "code",
   "execution_count": null,
   "metadata": {},
   "outputs": [],
   "source": [
    "# are they the same as the towns with zero males?\n",
    "working_df[working_df['males']==0].head()"
   ]
  },
  {
   "cell_type": "code",
   "execution_count": null,
   "metadata": {},
   "outputs": [],
   "source": [
    "# zero females\n",
    "working_df[working_df['females']==0].head()"
   ]
  },
  {
   "cell_type": "code",
   "execution_count": null,
   "metadata": {},
   "outputs": [],
   "source": [
    "# let's check by removing the places with zero population \n",
    "working_df = working_df[working_df['total_pop']>0]"
   ]
  },
  {
   "cell_type": "code",
   "execution_count": null,
   "metadata": {},
   "outputs": [],
   "source": [
    "# for these areas with zero people:\n",
    "# should we remove? \n",
    "# should we flag?\n",
    "# let's keep these data for now."
   ]
  },
  {
   "cell_type": "markdown",
   "metadata": {},
   "source": [
    "### applying a user a defined function"
   ]
  },
  {
   "cell_type": "code",
   "execution_count": null,
   "metadata": {},
   "outputs": [],
   "source": [
    "# but we can't compute the sex ratio as we did above.\n",
    "# up until now, we've been operating on columns (vectors) of our data. We're now going to examine rows. \n",
    "# to compute the ratios, we'll need to write a function that examines each row in our pandas dataframe\n",
    "\n",
    "# we're now going to apply a user defined function to reach row in our dataframe\n",
    "# https://pandas.pydata.org/pandas-docs/stable/generated/pandas.DataFrame.apply.html"
   ]
  },
  {
   "cell_type": "code",
   "execution_count": null,
   "metadata": {},
   "outputs": [],
   "source": [
    "def sex_ratio(row):\n",
    "    males = row['males'] # the current row's 'males' value\n",
    "    females = row['females'] # current row's 'females' value\n",
    "    # use an if statement to account for places with 0 females surveyed.\n",
    "    if females == 0:\n",
    "        # we'll add 1 to the count of zero, in this case.\n",
    "        outcome = (males / (females + 1)) * 100\n",
    "    else:\n",
    "        outcome = (males / females) * 100\n",
    "    \n",
    "    return outcome"
   ]
  },
  {
   "cell_type": "code",
   "execution_count": null,
   "metadata": {},
   "outputs": [],
   "source": [
    "working_df['sex_ratio'] = working_df.apply(func=sex_ratio, axis=1)"
   ]
  },
  {
   "cell_type": "code",
   "execution_count": null,
   "metadata": {},
   "outputs": [],
   "source": [
    "working_df['sex_ratio'].describe()"
   ]
  },
  {
   "cell_type": "code",
   "execution_count": null,
   "metadata": {},
   "outputs": [],
   "source": [
    "# what is going with the max value?\n",
    "working_df.sort_values(by='sex_ratio', ascending=False).head()"
   ]
  },
  {
   "cell_type": "code",
   "execution_count": null,
   "metadata": {},
   "outputs": [],
   "source": [
    "# it looks like towns with zero females feature a very high sex ratio.\n",
    "# That's not surprising, given what we've done. "
   ]
  },
  {
   "cell_type": "code",
   "execution_count": null,
   "metadata": {},
   "outputs": [],
   "source": [
    "# let's say we want to look at the sex ratio by quintiles of population size\n",
    "# maybe there is something systematic going on in smaller areas?\n",
    "# https://pandas.pydata.org/pandas-docs/version/0.23.4/generated/pandas.qcut.html\n",
    "working_df['pop_quintile'] = pd.qcut(x=working_df['total_pop'], q=5, labels=False)"
   ]
  },
  {
   "cell_type": "code",
   "execution_count": null,
   "metadata": {},
   "outputs": [],
   "source": [
    "working_df.head()"
   ]
  },
  {
   "cell_type": "code",
   "execution_count": null,
   "metadata": {},
   "outputs": [],
   "source": [
    "# let's see our labels for our quintiles\n",
    "working_df['pop_quintile'].unique()"
   ]
  },
  {
   "cell_type": "code",
   "execution_count": null,
   "metadata": {},
   "outputs": [],
   "source": [
    "# python is zero-indexed...\n",
    "for i in range(0, 5):\n",
    "    # apply string formatting to produce a meaningful descriptor\n",
    "    curr_quintile = (i + 1) * .2\n",
    "    curr_quintile = '{:.0%}'.format(curr_quintile)\n",
    "    \n",
    "    # let's look at the current quintile\n",
    "    curr_df = working_df[working_df['pop_quintile']==i]\n",
    "        \n",
    "    print('****TOTAL POPULATION****')\n",
    "    print('Current quintile:', curr_quintile)\n",
    "    print(curr_df['sex_ratio'].describe())   \n",
    "    print()\n",
    "    "
   ]
  },
  {
   "cell_type": "code",
   "execution_count": null,
   "metadata": {},
   "outputs": [],
   "source": [
    "# it does look like there is something odd about the smaller places based on the summary statistics\n",
    "# but let's visualize these data"
   ]
  },
  {
   "cell_type": "markdown",
   "metadata": {},
   "source": [
    "### plotting data"
   ]
  },
  {
   "cell_type": "code",
   "execution_count": null,
   "metadata": {},
   "outputs": [],
   "source": [
    "# let's plot this using the matplot lib library so we can see it more easily\n",
    "# https://matplotlib.org/api/_as_gen/matplotlib.pyplot.boxplot.html#matplotlib.pyplot.boxplot\n",
    "import matplotlib.pyplot as plt\n",
    "%matplotlib inline "
   ]
  },
  {
   "cell_type": "code",
   "execution_count": null,
   "metadata": {},
   "outputs": [],
   "source": [
    "boxplot = working_df.boxplot(column=['sex_ratio'], by=['pop_quintile'])"
   ]
  },
  {
   "cell_type": "code",
   "execution_count": null,
   "metadata": {},
   "outputs": [],
   "source": [
    "# the sex ratio of the smaller areas is so large that it's affecting the \n",
    "# scale of the box plot.\n",
    "# let's remove the areas with zero females, recompute our quintiles, and redo our box plots"
   ]
  },
  {
   "cell_type": "code",
   "execution_count": null,
   "metadata": {},
   "outputs": [],
   "source": [
    "# remove areas with zero females using .loc notation:\n",
    "# https://pandas.pydata.org/pandas-docs/stable/generated/pandas.DataFrame.loc.html\n",
    "working_df = working_df.loc[working_df['females']>0, :]"
   ]
  },
  {
   "cell_type": "code",
   "execution_count": null,
   "metadata": {},
   "outputs": [],
   "source": [
    "# recompute quintiles\n",
    "working_df['pop_quintile'] = pd.qcut(x=working_df['total_pop'], q=5, labels=False)"
   ]
  },
  {
   "cell_type": "code",
   "execution_count": null,
   "metadata": {},
   "outputs": [],
   "source": [
    "# another box plot\n",
    "boxplot = working_df.boxplot(column=['sex_ratio'], by=['pop_quintile'])"
   ]
  },
  {
   "cell_type": "code",
   "execution_count": null,
   "metadata": {},
   "outputs": [],
   "source": [
    "# that looks more reasonable.\n",
    "# But what if we wanted to compute deciles?"
   ]
  },
  {
   "cell_type": "code",
   "execution_count": null,
   "metadata": {},
   "outputs": [],
   "source": [
    "working_df['pop_decile'] = pd.qcut(x=working_df['total_pop'], q=10, labels=False)"
   ]
  },
  {
   "cell_type": "code",
   "execution_count": null,
   "metadata": {},
   "outputs": [],
   "source": [
    "# another box plot\n",
    "boxplot = working_df.boxplot(column=['sex_ratio'], by=['pop_decile'])\n",
    "# but this time format and label and the axes and title\n",
    "boxplot.set_xlabel('Population Deciles') # format the x  \n",
    "boxplot.set_ylabel('Number of Males per 100 Females')\n",
    "boxplot.set_title('Avg. Estimated Sex Ratio in Washington State Places, 2013 - 2017')\n",
    "boxplot.figure.suptitle('')"
   ]
  },
  {
   "cell_type": "markdown",
   "metadata": {},
   "source": [
    "# plotting geographic data"
   ]
  },
  {
   "cell_type": "code",
   "execution_count": null,
   "metadata": {},
   "outputs": [],
   "source": [
    "# we can use the geopandas library to plot geographic data\n",
    "# http://geopandas.org/\n",
    "import geopandas as gpd"
   ]
  },
  {
   "cell_type": "code",
   "execution_count": null,
   "metadata": {},
   "outputs": [],
   "source": [
    "# First, we're going to create a string varible with the value of the directory we're working with\n",
    "s_file_path = os.path.join('C:/Users', netid, 'documents/intro_to_python-master/intro_to_python/tl_2018_53_place')"
   ]
  },
  {
   "cell_type": "code",
   "execution_count": null,
   "metadata": {},
   "outputs": [],
   "source": [
    "s_file_name = 'tl_2018_53_place.shp'\n",
    "s_fpn = os.path.join(s_file_path, s_file_name)"
   ]
  },
  {
   "cell_type": "code",
   "execution_count": null,
   "metadata": {},
   "outputs": [],
   "source": [
    "gdf = gpd.read_file(filename=s_fpn)"
   ]
  },
  {
   "cell_type": "code",
   "execution_count": null,
   "metadata": {},
   "outputs": [],
   "source": [
    "gdf.plot()"
   ]
  },
  {
   "cell_type": "code",
   "execution_count": null,
   "metadata": {},
   "outputs": [],
   "source": [
    "# that's really hard to see, even if we were to zoom in. \n",
    "# let's format our data so that we can join the sex ratio data\n",
    "# to the geographic data and then export it to use in GIS"
   ]
  },
  {
   "cell_type": "code",
   "execution_count": null,
   "metadata": {},
   "outputs": [],
   "source": [
    "# what are our column names in the shapefile?\n",
    "gdf.head(n=100)"
   ]
  },
  {
   "cell_type": "code",
   "execution_count": null,
   "metadata": {},
   "outputs": [],
   "source": [
    "# he geodataframe features a field named GEOID.\n",
    "# this matches 'geoid' in our working dataframe, but the field names are of different case. Let's double check."
   ]
  },
  {
   "cell_type": "code",
   "execution_count": null,
   "metadata": {},
   "outputs": [],
   "source": [
    "working_df.head()"
   ]
  },
  {
   "cell_type": "code",
   "execution_count": null,
   "metadata": {},
   "outputs": [],
   "source": [
    "# no! it's geo.id2\n",
    "# let's clean up workign_df a little more and rename our field."
   ]
  },
  {
   "cell_type": "code",
   "execution_count": null,
   "metadata": {},
   "outputs": [],
   "source": [
    "# drop the geo.id field - it's superflous at this point\n",
    "working_df = working_df.drop('geo.id', 1)"
   ]
  },
  {
   "cell_type": "code",
   "execution_count": null,
   "metadata": {},
   "outputs": [],
   "source": [
    "# check\n",
    "working_df.head()"
   ]
  },
  {
   "cell_type": "code",
   "execution_count": null,
   "metadata": {},
   "outputs": [],
   "source": [
    "# it also look like 'geo.display-label' features the same information as 'NAME' and 'NAMELSAD' in the \n",
    "# geodataframe. Let's keep it, but rename as well."
   ]
  },
  {
   "cell_type": "code",
   "execution_count": null,
   "metadata": {},
   "outputs": [],
   "source": [
    "# rename\n",
    "rename_columns = {'geo.id2':'geoid', 'geo.display-label':'areaname'}\n",
    "working_df = working_df.rename(columns=rename_columns)"
   ]
  },
  {
   "cell_type": "code",
   "execution_count": null,
   "metadata": {},
   "outputs": [],
   "source": [
    "working_df.head()"
   ]
  },
  {
   "cell_type": "code",
   "execution_count": null,
   "metadata": {},
   "outputs": [],
   "source": [
    "# better...\n",
    "# because we are ultimately saving this data to a shapefile, we need to do a little more prep\n",
    "# shapefiles are a very inflexible data storage mechanism\n",
    "# accordingly:\n",
    "# field names must be 10 characters are less\n",
    "# CANNOT start with a number\n",
    "# CANNOT contain the following characters: ,./<>?;':\"[]\\{}|`~!@#$%^&*()-=+\"'\n",
    "# CAN contain an underscore _\n",
    "# prefer to use fieldname featuring UPPER-CASE LETTERS"
   ]
  },
  {
   "cell_type": "code",
   "execution_count": null,
   "metadata": {},
   "outputs": [],
   "source": [
    "# create uppercase columns\n",
    "col_names = working_df.columns.tolist()"
   ]
  },
  {
   "cell_type": "code",
   "execution_count": null,
   "metadata": {},
   "outputs": [],
   "source": [
    "col_names = [x.upper() for x in col_names]"
   ]
  },
  {
   "cell_type": "code",
   "execution_count": null,
   "metadata": {},
   "outputs": [],
   "source": [
    "working_df.columns = col_names"
   ]
  },
  {
   "cell_type": "code",
   "execution_count": null,
   "metadata": {},
   "outputs": [],
   "source": [
    "working_df.head()"
   ]
  },
  {
   "cell_type": "code",
   "execution_count": null,
   "metadata": {},
   "outputs": [],
   "source": [
    "# hmmm, I think that some of those field names are longer than 10 characters\n",
    "# better rename just to be on the safe side\n",
    "rename_columns = {'POP_QUINTILE':'P_QUINTILE', 'POP_DECILE':'P_DECILE'}\n",
    "working_df = working_df.rename(columns=rename_columns)"
   ]
  },
  {
   "cell_type": "code",
   "execution_count": null,
   "metadata": {},
   "outputs": [],
   "source": [
    "working_df.head()"
   ]
  },
  {
   "cell_type": "code",
   "execution_count": null,
   "metadata": {},
   "outputs": [],
   "source": [
    "# join the sex ratio data with the geographic data\n",
    "gdf = pd.merge(left=gdf, right=working_df, how='left')"
   ]
  },
  {
   "cell_type": "code",
   "execution_count": null,
   "metadata": {},
   "outputs": [],
   "source": [
    "gdf.head()"
   ]
  },
  {
   "cell_type": "code",
   "execution_count": null,
   "metadata": {},
   "outputs": [],
   "source": [
    "# save to disk\n",
    "output_s_file_name = 'wa_places_sex_ratio.shp'\n",
    "output_s_fpn = os.path.join(s_file_path, output_s_file_name)"
   ]
  },
  {
   "cell_type": "code",
   "execution_count": null,
   "metadata": {},
   "outputs": [],
   "source": [
    "gdf.to_file(filename=output_s_fpn, driver='ESRI Shapefile')"
   ]
  },
  {
   "cell_type": "markdown",
   "metadata": {},
   "source": [
    "### exporting data"
   ]
  },
  {
   "cell_type": "code",
   "execution_count": null,
   "metadata": {},
   "outputs": [],
   "source": [
    "# let's write these data out to a csv and an excel file\n",
    "# first, to the csv\n",
    "file_name = 'wa_places_sex_ratios.csv'\n",
    "file_path_name = os.path.join(file_path, file_name)"
   ]
  },
  {
   "cell_type": "code",
   "execution_count": null,
   "metadata": {},
   "outputs": [],
   "source": [
    "# https://pandas.pydata.org/pandas-docs/stable/generated/pandas.DataFrame.to_csv.html\n",
    "working_df.to_csv(path_or_buf=file_path_name, sep='\\t', index=False)"
   ]
  },
  {
   "cell_type": "code",
   "execution_count": null,
   "metadata": {},
   "outputs": [],
   "source": [
    "# now, to excel\n",
    "file_name = 'wa_places_sex_ratios.xlsx'\n",
    "file_path_name = os.path.join(file_path, file_name)"
   ]
  },
  {
   "cell_type": "code",
   "execution_count": null,
   "metadata": {},
   "outputs": [],
   "source": [
    "# https://pandas.pydata.org/pandas-docs/stable/reference/api/pandas.DataFrame.to_excel.html\n",
    "working_df.to_excel(excel_writer=file_path_name, index=False)"
   ]
  },
  {
   "cell_type": "markdown",
   "metadata": {},
   "source": [
    "# let's use qGIS to take a look at the data!"
   ]
  },
  {
   "cell_type": "code",
   "execution_count": null,
   "metadata": {},
   "outputs": [],
   "source": [
    "# https://www.qgis.org/en/site/"
   ]
  }
 ],
 "metadata": {
  "kernelspec": {
   "display_name": "Python 3",
   "language": "python",
   "name": "python3"
  },
  "language_info": {
   "codemirror_mode": {
    "name": "ipython",
    "version": 3
   },
   "file_extension": ".py",
   "mimetype": "text/x-python",
   "name": "python",
   "nbconvert_exporter": "python",
   "pygments_lexer": "ipython3",
   "version": "3.6.5"
  }
 },
 "nbformat": 4,
 "nbformat_minor": 2
}
