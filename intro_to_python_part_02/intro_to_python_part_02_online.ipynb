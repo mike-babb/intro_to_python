{
 "cells": [
  {
   "cell_type": "markdown",
   "metadata": {},
   "source": [
    "# Mike Babb\n",
    "# babbm@uw.edu\n",
    "# Introduction to Python Part 02"
   ]
  },
  {
   "cell_type": "code",
   "execution_count": null,
   "metadata": {},
   "outputs": [],
   "source": [
    "# Problem Definition: find all valid words from a given word that uses all \n",
    "# letters in the given word. Each word group should contain at least as many words as\n",
    "# there are letters in the word. For example, the word 'time' is four characters long and those\n",
    "# characters can be rearranged as follows: emit, item, mite, and time. "
   ]
  },
  {
   "cell_type": "code",
   "execution_count": null,
   "metadata": {},
   "outputs": [],
   "source": [
    "# standard libraries - installed by default\n",
    "import csv\n",
    "from itertools import permutations, combinations\n",
    "import math\n",
    "import os\n",
    "import time"
   ]
  },
  {
   "cell_type": "code",
   "execution_count": null,
   "metadata": {},
   "outputs": [],
   "source": [
    "# install these libraries\n",
    "%pip install numpy\n",
    "%pip install pandas"
   ]
  },
  {
   "cell_type": "code",
   "execution_count": null,
   "metadata": {},
   "outputs": [],
   "source": [
    "# external libraries - not installed by default\n",
    "import numpy as np\n",
    "import pandas as pd"
   ]
  },
  {
   "cell_type": "code",
   "execution_count": null,
   "metadata": {},
   "outputs": [],
   "source": [
    "# set up our input file path and name\n",
    "# download from github\n",
    "in_file_name = 'https://raw.githubusercontent.com/mike-babb/intro_to_python/master/intro_to_python_part_02/words.txt'"
   ]
  },
  {
   "cell_type": "code",
   "execution_count": null,
   "metadata": {},
   "outputs": [],
   "source": [
    "# use pandas to load the data\n",
    "print('Reading in list of words...')\n",
    "word_df = pd.read_csv(filepath_or_buffer = in_file_name, sep = ',', header = None)    \n",
    "# check the first few rows"
   ]
  },
  {
   "cell_type": "code",
   "execution_count": null,
   "metadata": {},
   "outputs": [],
   "source": [
    "# check the first few records\n",
    "word_df.head()"
   ]
  },
  {
   "cell_type": "code",
   "execution_count": null,
   "metadata": {},
   "outputs": [],
   "source": [
    "# let's specify a a more appropriate column name\n",
    "col_names = ['word']\n",
    "word_df.columns = col_names"
   ]
  },
  {
   "cell_type": "code",
   "execution_count": null,
   "metadata": {},
   "outputs": [],
   "source": [
    "# how many words are we working with?\n",
    "n_words = len(word_df)\n",
    "print('...found', '{:,}'.format(n_words), 'words to find anagrams for...')"
   ]
  },
  {
   "cell_type": "code",
   "execution_count": null,
   "metadata": {},
   "outputs": [],
   "source": [
    "# convert the only column to a string - just to be safe.\n",
    "# nan is a word in the dictionary. nan is an internal python value.\n",
    "word_df['word'] = word_df['word'].astype(np.str)"
   ]
  },
  {
   "cell_type": "code",
   "execution_count": null,
   "metadata": {},
   "outputs": [],
   "source": [
    "# create lower case values of the words\n",
    "word_df['lcase'] = word_df['word'].str.lower()\n",
    "# and now drop duplicates\n",
    "word_df = word_df.drop_duplicates('lcase')"
   ]
  },
  {
   "cell_type": "code",
   "execution_count": null,
   "metadata": {},
   "outputs": [],
   "source": [
    "# 1. find word length\n",
    "word_df['n_chars'] = word_df['lcase'].str.len()"
   ]
  },
  {
   "cell_type": "code",
   "execution_count": null,
   "metadata": {},
   "outputs": [],
   "source": [
    "# 2. extract the first letter\n",
    "word_df['first_letter'] = word_df['lcase'].str[:1]"
   ]
  },
  {
   "cell_type": "code",
   "execution_count": null,
   "metadata": {},
   "outputs": [],
   "source": [
    "# 3. Let's aggregate the data to create a new dataframe featuring the counts of words by word length\n",
    "agg_word_df = word_df['n_chars'].groupby(word_df['n_chars']).agg(np.size).to_frame()\n",
    "col_names = ['n_words']\n",
    "agg_word_df.columns = col_names\n",
    "agg_word_df =  agg_word_df.reset_index()"
   ]
  },
  {
   "cell_type": "code",
   "execution_count": null,
   "metadata": {},
   "outputs": [],
   "source": [
    "agg_word_df.head()\n",
    "# there are 26 one letter words... that checks out"
   ]
  },
  {
   "cell_type": "code",
   "execution_count": null,
   "metadata": {},
   "outputs": [],
   "source": [
    "# and the tail\n",
    "agg_word_df.tail()"
   ]
  },
  {
   "cell_type": "code",
   "execution_count": null,
   "metadata": {},
   "outputs": [],
   "source": [
    "# let's do a cross tab - word length by start character\n",
    "select_columns = ['first_letter', 'n_chars']\n",
    "ct_word_df = pd.crosstab(index=word_df['first_letter'], columns=word_df['n_chars'])"
   ]
  },
  {
   "cell_type": "code",
   "execution_count": null,
   "metadata": {},
   "outputs": [],
   "source": [
    "# check it\n",
    "ct_word_df.head()"
   ]
  },
  {
   "cell_type": "code",
   "execution_count": null,
   "metadata": {},
   "outputs": [],
   "source": [
    "#  reset the index and write to excel\n",
    "ct_word_df = ct_word_df.reset_index()"
   ]
  },
  {
   "cell_type": "code",
   "execution_count": null,
   "metadata": {},
   "outputs": [],
   "source": [
    "ct_word_df.head()"
   ]
  },
  {
   "cell_type": "code",
   "execution_count": null,
   "metadata": {},
   "outputs": [],
   "source": [
    "# the amazing thing about pandas is that we can write to disk in a variety of formats.\n",
    "# Let's pick excel for now."
   ]
  },
  {
   "cell_type": "code",
   "execution_count": null,
   "metadata": {},
   "outputs": [],
   "source": [
    "# setup the output path\n",
    "# this will save the excel file to /content directory.\n",
    "e_file_name = 'words_analysis.xlsx'"
   ]
  },
  {
   "cell_type": "code",
   "execution_count": null,
   "metadata": {},
   "outputs": [],
   "source": [
    "# create the writer object\n",
    "e_writer = pd.ExcelWriter(e_file_name)"
   ]
  },
  {
   "cell_type": "code",
   "execution_count": null,
   "metadata": {},
   "outputs": [],
   "source": [
    "# let's first write the list of words\n",
    "word_df.to_excel(excel_writer=e_writer, sheet_name='word_list', index = False)"
   ]
  },
  {
   "cell_type": "code",
   "execution_count": null,
   "metadata": {},
   "outputs": [],
   "source": [
    "# let's write the count of words by character length\n",
    "agg_word_df.to_excel(excel_writer=e_writer, sheet_name='word_count_by_length', index = False)"
   ]
  },
  {
   "cell_type": "code",
   "execution_count": null,
   "metadata": {},
   "outputs": [],
   "source": [
    "ct_word_df.to_excel(excel_writer=e_writer, sheet_name='word_count_by_length_by_letter', index = False)"
   ]
  },
  {
   "cell_type": "code",
   "execution_count": null,
   "metadata": {},
   "outputs": [],
   "source": [
    "# save and close the excel file\n",
    "e_writer.save()\n",
    "e_writer.close()"
   ]
  },
  {
   "cell_type": "markdown",
   "metadata": {},
   "source": [
    "# what if we were trying to find all words by a brute-force technique?"
   ]
  },
  {
   "cell_type": "code",
   "execution_count": null,
   "metadata": {},
   "outputs": [],
   "source": [
    "# let's play with pandas to learn some facts about our list of words and show case how to use pandas\n",
    "# we're going to make extensive use of the string functions in python and the pandas variates\n",
    "# pure python: https://docs.python.org/3.6/library/string.html\n",
    "# pandas versions: https://pandas.pydata.org/pandas-docs/stable/text.html#working-with-text-data"
   ]
  },
  {
   "cell_type": "code",
   "execution_count": null,
   "metadata": {},
   "outputs": [],
   "source": [
    "# what is the maximum character length?\n",
    "max_char_length = agg_word_df['n_chars'].max()"
   ]
  },
  {
   "cell_type": "code",
   "execution_count": null,
   "metadata": {},
   "outputs": [],
   "source": [
    "max_char_length"
   ]
  },
  {
   "cell_type": "code",
   "execution_count": null,
   "metadata": {},
   "outputs": [],
   "source": [
    "# how many possible combinations are there?"
   ]
  },
  {
   "cell_type": "code",
   "execution_count": null,
   "metadata": {},
   "outputs": [],
   "source": [
    "n_permutations = math.factorial(max_char_length)"
   ]
  },
  {
   "cell_type": "code",
   "execution_count": null,
   "metadata": {},
   "outputs": [],
   "source": [
    "n_permutations"
   ]
  },
  {
   "cell_type": "code",
   "execution_count": null,
   "metadata": {},
   "outputs": [],
   "source": [
    "# to check all permutations for one 24-character word\n",
    "# assuming our computer can perform x checks per second\n",
    "checks_per_second = 100000"
   ]
  },
  {
   "cell_type": "code",
   "execution_count": null,
   "metadata": {},
   "outputs": [],
   "source": [
    "n_seconds = n_permutations / checks_per_second"
   ]
  },
  {
   "cell_type": "code",
   "execution_count": null,
   "metadata": {},
   "outputs": [],
   "source": [
    "print('examining permutations takes', '{:,}'.format(n_seconds), 'seconds...')"
   ]
  },
  {
   "cell_type": "code",
   "execution_count": null,
   "metadata": {},
   "outputs": [],
   "source": [
    "n_minutes = n_seconds / 60 "
   ]
  },
  {
   "cell_type": "code",
   "execution_count": null,
   "metadata": {},
   "outputs": [],
   "source": [
    "print('examining permutations takes', '{:,}'.format(n_minutes), 'minutes...')"
   ]
  },
  {
   "cell_type": "code",
   "execution_count": null,
   "metadata": {},
   "outputs": [],
   "source": [
    "n_hours = n_minutes / 60"
   ]
  },
  {
   "cell_type": "code",
   "execution_count": null,
   "metadata": {},
   "outputs": [],
   "source": [
    "print('examining permutations takes', '{:,}'.format(n_hours), 'hours...')"
   ]
  },
  {
   "cell_type": "code",
   "execution_count": null,
   "metadata": {},
   "outputs": [],
   "source": [
    "n_days = n_hours / 24"
   ]
  },
  {
   "cell_type": "code",
   "execution_count": null,
   "metadata": {},
   "outputs": [],
   "source": [
    "print('examining permutations takes', '{:,}'.format(n_days), 'days...')"
   ]
  },
  {
   "cell_type": "code",
   "execution_count": null,
   "metadata": {},
   "outputs": [],
   "source": [
    "n_years = n_days / 365"
   ]
  },
  {
   "cell_type": "code",
   "execution_count": null,
   "metadata": {},
   "outputs": [],
   "source": [
    "print('examining permutations takes', '{:,}'.format(n_years), 'years...')"
   ]
  },
  {
   "cell_type": "code",
   "execution_count": null,
   "metadata": {},
   "outputs": [],
   "source": [
    "# if we were to check all permutations of all words...\n",
    "agg_word_df['n_char_factorial'] = agg_word_df['n_chars'].map(math.factorial)"
   ]
  },
  {
   "cell_type": "code",
   "execution_count": null,
   "metadata": {},
   "outputs": [],
   "source": [
    "# and do that for each word...\n",
    "agg_word_df['n_char_checks'] = agg_word_df['n_words'] * agg_word_df['n_char_factorial']"
   ]
  },
  {
   "cell_type": "code",
   "execution_count": null,
   "metadata": {},
   "outputs": [],
   "source": [
    "total_checks = agg_word_df['n_char_checks'].sum()"
   ]
  },
  {
   "cell_type": "code",
   "execution_count": null,
   "metadata": {},
   "outputs": [],
   "source": [
    "# assuming we can process:\n",
    "# 1M permutations a second\n",
    "checks_per_second = 1000000"
   ]
  },
  {
   "cell_type": "code",
   "execution_count": null,
   "metadata": {},
   "outputs": [],
   "source": [
    "processing_time = total_checks / checks_per_second"
   ]
  },
  {
   "cell_type": "code",
   "execution_count": null,
   "metadata": {},
   "outputs": [],
   "source": [
    "processing_years = processing_time / 60 / 60 / 24 / 365"
   ]
  },
  {
   "cell_type": "code",
   "execution_count": null,
   "metadata": {},
   "outputs": [],
   "source": [
    "print('examining all permutations takes', '{:,}'.format(processing_years), 'years...')"
   ]
  },
  {
   "cell_type": "code",
   "execution_count": null,
   "metadata": {},
   "outputs": [],
   "source": [
    "# that's a long time!"
   ]
  },
  {
   "cell_type": "markdown",
   "metadata": {},
   "source": [
    "# let's re-think our approach by first focusing on one word: time"
   ]
  },
  {
   "cell_type": "code",
   "execution_count": null,
   "metadata": {},
   "outputs": [],
   "source": [
    "# use python's built-in permutations function from the itertools library to generate\n",
    "# all possible combinations of letters\n",
    "# this is 4! which is equal to 4*3*2*1 = 24\n",
    "for p in permutations('time'):\n",
    "    print(p)"
   ]
  },
  {
   "cell_type": "code",
   "execution_count": null,
   "metadata": {},
   "outputs": [],
   "source": [
    "type(p)"
   ]
  },
  {
   "cell_type": "code",
   "execution_count": null,
   "metadata": {},
   "outputs": [],
   "source": [
    "# now, let's create words from the tuples\n",
    "for p in permutations('time'):\n",
    "    new_word = ''.join(p)\n",
    "    print(new_word)    "
   ]
  },
  {
   "cell_type": "code",
   "execution_count": null,
   "metadata": {},
   "outputs": [],
   "source": [
    "# and we can sort them. \n",
    "for p in permutations('time'):   \n",
    "    new_word = ''.join(sorted(p))\n",
    "    print(new_word)"
   ]
  },
  {
   "cell_type": "code",
   "execution_count": null,
   "metadata": {},
   "outputs": [],
   "source": [
    "# so, after sorting, they are all the same.\n",
    "# let's call this sorted word group the 'eimt' group\n",
    "sorted_word_group = 'eimt'"
   ]
  },
  {
   "cell_type": "code",
   "execution_count": null,
   "metadata": {},
   "outputs": [],
   "source": [
    "# let's sort a series of words to see if they match.\n",
    "words_to_examine = ['time', 'mite', 'emit', 'item', 'rite']"
   ]
  },
  {
   "cell_type": "code",
   "execution_count": null,
   "metadata": {},
   "outputs": [],
   "source": [
    "for word in words_to_examine:    \n",
    "    sorted_word = sorted(word)\n",
    "    if ''.join(sorted_word) == sorted_word_group:\n",
    "        print(word, 'is in the', sorted_word_group, 'group')\n",
    "    else:\n",
    "        print(word, 'is NOT in the', sorted_word_group, 'group')"
   ]
  },
  {
   "cell_type": "code",
   "execution_count": null,
   "metadata": {},
   "outputs": [],
   "source": [
    "# so we're going to do the same with pandas.\n",
    "# let's write a function to do this. \n",
    "def create_sort_word(word):\n",
    "    sorted_word = sorted(word)\n",
    "    output_word = ''.join(sorted_word)    \n",
    "    return output_word"
   ]
  },
  {
   "cell_type": "code",
   "execution_count": null,
   "metadata": {},
   "outputs": [],
   "source": [
    "# use the map function to apply our custom function and create the sorted word\n",
    "word_df['word_group'] = word_df['lcase'].map(create_sort_word)"
   ]
  },
  {
   "cell_type": "code",
   "execution_count": null,
   "metadata": {},
   "outputs": [],
   "source": [
    "# we can also do this in seperate steps\n",
    "word_df['sorted_word'] = word_df['lcase'].map(sorted)"
   ]
  },
  {
   "cell_type": "code",
   "execution_count": null,
   "metadata": {},
   "outputs": [],
   "source": [
    "# or we can combine operations using a lambda function\n",
    "word_df['word_group_2'] = word_df['sorted_word'].map(lambda x: ''.join(x))"
   ]
  },
  {
   "cell_type": "code",
   "execution_count": null,
   "metadata": {},
   "outputs": [],
   "source": [
    "# we can chain functions together where the output of one function is immediatedly passed to\n",
    "# another.\n",
    "word_df['word_group_3'] = word_df['lcase'].map(sorted).map(lambda x: ''.join(x))"
   ]
  },
  {
   "cell_type": "code",
   "execution_count": null,
   "metadata": {},
   "outputs": [],
   "source": [
    "# or we can compactly do it in one line with nested operations\n",
    "word_df['word_group_4'] = word_df['lcase'].map(lambda x: ''.join(sorted(x)))"
   ]
  },
  {
   "cell_type": "code",
   "execution_count": null,
   "metadata": {},
   "outputs": [],
   "source": [
    "# All of the aboves techniques produce the same results.\n",
    "# There are multiple ways to accomplish a task. \n",
    "# There are tradeoffs between readibilty, code re-use, and speed. "
   ]
  },
  {
   "cell_type": "code",
   "execution_count": null,
   "metadata": {},
   "outputs": [],
   "source": [
    "# let's check our work\n",
    "word_df.head()"
   ]
  },
  {
   "cell_type": "code",
   "execution_count": null,
   "metadata": {},
   "outputs": [],
   "source": [
    "# and the tail\n",
    "word_df.tail()"
   ]
  },
  {
   "cell_type": "code",
   "execution_count": null,
   "metadata": {},
   "outputs": [],
   "source": [
    "# how many sorted word groups have we identified?\n",
    "# do a simple group by and sort to count our values\n",
    "word_df['word_group_count'] = 1"
   ]
  },
  {
   "cell_type": "code",
   "execution_count": null,
   "metadata": {},
   "outputs": [],
   "source": [
    "# the columns we want in our output dataframe\n",
    "select_columns = ['n_chars', 'word_group', 'word_group_count']"
   ]
  },
  {
   "cell_type": "code",
   "execution_count": null,
   "metadata": {},
   "outputs": [],
   "source": [
    "# aggreate the word_df dataframe and count the number of groups.\n",
    "word_group_df = word_df[select_columns].groupby(select_columns[:-1]).agg(np.size)"
   ]
  },
  {
   "cell_type": "code",
   "execution_count": null,
   "metadata": {},
   "outputs": [],
   "source": [
    "# reset the index    \n",
    "word_group_df = word_group_df.reset_index()  "
   ]
  },
  {
   "cell_type": "code",
   "execution_count": null,
   "metadata": {},
   "outputs": [],
   "source": [
    "word_group_df.head()"
   ]
  },
  {
   "cell_type": "code",
   "execution_count": null,
   "metadata": {},
   "outputs": [],
   "source": [
    "word_group_df.tail()"
   ]
  },
  {
   "cell_type": "code",
   "execution_count": null,
   "metadata": {},
   "outputs": [],
   "source": [
    "len(word_group_df)"
   ]
  },
  {
   "cell_type": "code",
   "execution_count": null,
   "metadata": {},
   "outputs": [],
   "source": [
    "# what is the largest word group?\n",
    "word_group_df['word_group_count'].max()"
   ]
  },
  {
   "cell_type": "code",
   "execution_count": null,
   "metadata": {},
   "outputs": [],
   "source": [
    "# and what is that word group?\n",
    "word_group_df.loc[word_group_df['word_group_count']==10, 'word_group']"
   ]
  },
  {
   "cell_type": "code",
   "execution_count": null,
   "metadata": {},
   "outputs": [],
   "source": [
    "# there are two!"
   ]
  },
  {
   "cell_type": "code",
   "execution_count": null,
   "metadata": {},
   "outputs": [],
   "source": [
    "largest_word_group = word_group_df.loc[word_group_df['word_group_count']==10, 'word_group']"
   ]
  },
  {
   "cell_type": "code",
   "execution_count": null,
   "metadata": {},
   "outputs": [],
   "source": [
    "largest_word_group_df = word_df.loc[word_df['word_group'].isin(largest_word_group), ]"
   ]
  },
  {
   "cell_type": "code",
   "execution_count": null,
   "metadata": {},
   "outputs": [],
   "source": [
    "largest_word_group_df.tail()"
   ]
  },
  {
   "cell_type": "code",
   "execution_count": null,
   "metadata": {},
   "outputs": [],
   "source": [
    "# we've gone from having to compare 234K words with each other to finding 216K word groups\n",
    "# 14.3K word groups. We've winnowed down the search space dramatically and found a\n",
    "# way to eliminate unnecessary comparisons."
   ]
  },
  {
   "cell_type": "code",
   "execution_count": null,
   "metadata": {},
   "outputs": [],
   "source": [
    "word_group_df.head()"
   ]
  },
  {
   "cell_type": "code",
   "execution_count": null,
   "metadata": {},
   "outputs": [],
   "source": [
    "# let's find our anagrams\n",
    "# select only word groups that have the same number of words in the groups as\n",
    "# letters in the word.\n",
    "word_group_df = word_group_df.loc[word_group_df['word_group_count'] > 1, ]"
   ]
  },
  {
   "cell_type": "code",
   "execution_count": null,
   "metadata": {},
   "outputs": [],
   "source": [
    "len(word_df)"
   ]
  },
  {
   "cell_type": "code",
   "execution_count": null,
   "metadata": {},
   "outputs": [],
   "source": [
    "len(word_group_df)"
   ]
  },
  {
   "cell_type": "code",
   "execution_count": null,
   "metadata": {},
   "outputs": [],
   "source": [
    "# there are 14,362 word groups with at least two words in each group.\n",
    "# we've gone from having to compare 234K words with each other to finding 216K word groups\n",
    "# and then down to 382 word groups. We've winnowed down the search space dramatically and\n",
    "# found a way to eliminate unnecessary comparisons.\n",
    "# So now we pull out the unique word count values, query the df,\n",
    "# then write to disk."
   ]
  },
  {
   "cell_type": "code",
   "execution_count": null,
   "metadata": {},
   "outputs": [],
   "source": [
    "n_char_list = word_group_df['n_chars'].unique().tolist()\n",
    "n_char_list.sort()"
   ]
  },
  {
   "cell_type": "code",
   "execution_count": null,
   "metadata": {},
   "outputs": [],
   "source": [
    "n_char_list[:5]"
   ]
  },
  {
   "cell_type": "code",
   "execution_count": null,
   "metadata": {},
   "outputs": [],
   "source": [
    "word_group_df.head()"
   ]
  },
  {
   "cell_type": "code",
   "execution_count": null,
   "metadata": {},
   "outputs": [],
   "source": [
    "word_df.head()"
   ]
  },
  {
   "cell_type": "code",
   "execution_count": null,
   "metadata": {},
   "outputs": [],
   "source": [
    "# use a hash function to speed up comparisons\n",
    "# the hash is an integer value of an object:\n",
    "# python is orders of magnitude faster at comparing integers than strings\n",
    "word_df['word_hash'] = word_df['word_group'].map(hash)"
   ]
  },
  {
   "cell_type": "code",
   "execution_count": null,
   "metadata": {},
   "outputs": [],
   "source": [
    "word_group_df['word_hash'] = word_group_df['word_group'].map(hash)"
   ]
  },
  {
   "cell_type": "code",
   "execution_count": null,
   "metadata": {},
   "outputs": [],
   "source": [
    "# use the csv writer to write this to disk\n",
    "output_file_name = 'anagrams_found.txt'\n",
    "# specify the proper line ending when using a csv writer.\n",
    "output_file = open(output_file_name, 'w', newline='')\n",
    "cw = csv.writer(output_file)    \n",
    "# intialize some counters\n",
    "n_anagram_groups = 0\n",
    "n_anagrams = 0"
   ]
  },
  {
   "cell_type": "code",
   "execution_count": null,
   "metadata": {},
   "outputs": [],
   "source": [
    "# start a time to record processing time.\n",
    "s_time = time.time()\n",
    "\n",
    "# enumerate over the list of words by character length\n",
    "for n_char in n_char_list[:2]:\n",
    "    # subset the word_group_df by focal character length\n",
    "    curr_df = word_group_df.loc[word_group_df['n_chars']==n_char, ]    \n",
    "    \n",
    "    # create a list of word groups where each word group is n_char in length.\n",
    "    word_group_list = curr_df['word_group'].unique().tolist()\n",
    "    \n",
    "    # for use with the computed hash look up\n",
    "    # word_group_list = curr_df['word_hash'].unique().tolist()\n",
    "       \n",
    "    n_word_groups = len(word_group_list)\n",
    "        \n",
    "    print('...found', '{:,}'.format(n_word_groups), 'unique word groups within', n_char, 'digit words.')\n",
    "    for i_wg, wg in enumerate(word_group_list):\n",
    "        # enumerate() is a function that returns an integer value and the value \n",
    "        # in a iterable object.\n",
    "        \n",
    "        # get the group of words that correspond to the specific word group\n",
    "        curr_word_list = word_df.loc[word_df['word_group'] == wg, 'lcase'].tolist()\n",
    "        \n",
    "        # using the hash lookup to examine the difference in speed.\n",
    "        #curr_word_list = word_df.loc[word_df['word_hash'] == wg, 'lcase'].tolist()\n",
    "        \n",
    "        # write that word group to the output csv\n",
    "        cw.writerow(curr_word_list)\n",
    "        # increment the counters to find the total number of anagram groups\n",
    "        # and words\n",
    "        n_anagram_groups += 1\n",
    "        n_anagrams += len(curr_word_list)\n",
    "\n",
    "# close the output file\n",
    "output_file.close()\n",
    "# mark the time at which processing has ended\n",
    "e_time = time.time()"
   ]
  },
  {
   "cell_type": "code",
   "execution_count": null,
   "metadata": {},
   "outputs": [],
   "source": [
    "p_time = e_time - s_time"
   ]
  },
  {
   "cell_type": "code",
   "execution_count": null,
   "metadata": {},
   "outputs": [],
   "source": [
    "print('...finding anagrams took', '{:,}'.format(round(p_time,1)), 'seconds...')"
   ]
  },
  {
   "cell_type": "code",
   "execution_count": null,
   "metadata": {},
   "outputs": [],
   "source": [
    "# how many anagram groups and anagrams did we find?\n",
    "n_anagram_groups = '{:,}'.format(n_anagram_groups)\n",
    "n_anagrams = '{:,}'.format(n_anagrams)\n",
    "print('...found', n_anagram_groups, 'anagram groups consisting of',\n",
    "      n_anagrams, 'words...')"
   ]
  },
  {
   "cell_type": "code",
   "execution_count": null,
   "metadata": {},
   "outputs": [],
   "source": []
  }
 ],
 "metadata": {
  "kernelspec": {
   "display_name": "Python 3",
   "language": "python",
   "name": "python3"
  },
  "language_info": {
   "codemirror_mode": {
    "name": "ipython",
    "version": 3
   },
   "file_extension": ".py",
   "mimetype": "text/x-python",
   "name": "python",
   "nbconvert_exporter": "python",
   "pygments_lexer": "ipython3",
   "version": "3.8.6"
  }
 },
 "nbformat": 4,
 "nbformat_minor": 2
}
