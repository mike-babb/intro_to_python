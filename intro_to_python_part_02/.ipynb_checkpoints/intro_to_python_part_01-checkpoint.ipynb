{
 "cells": [
  {
   "cell_type": "markdown",
   "metadata": {},
   "source": [
    "# Mike Babb\n",
    "# babbm@uw.edu\n",
    "# Introduction to Python Part 01"
   ]
  },
  {
   "cell_type": "code",
   "execution_count": 1,
   "metadata": {},
   "outputs": [],
   "source": [
    "# Problem Definition"
   ]
  },
  {
   "cell_type": "code",
   "execution_count": 2,
   "metadata": {},
   "outputs": [],
   "source": [
    "# standard libraries - installed by default\n",
    "import csv\n",
    "from itertools import permutations, combinations\n",
    "import math\n",
    "import os\n",
    "import time"
   ]
  },
  {
   "cell_type": "code",
   "execution_count": 3,
   "metadata": {},
   "outputs": [],
   "source": [
    "# external libraries - not installed by default\n",
    "import numpy as np\n",
    "import pandas as pd"
   ]
  },
  {
   "cell_type": "code",
   "execution_count": 4,
   "metadata": {},
   "outputs": [],
   "source": [
    "# set up our input file path and name\n",
    "in_file_path = 'H:/git/anagrams'    \n",
    "in_file_name = 'words.txt'    \n",
    "in_fpn = os.path.join(in_file_path, in_file_name)    \n",
    "in_fpn = in_file_name\n"
   ]
  },
  {
   "cell_type": "code",
   "execution_count": 5,
   "metadata": {},
   "outputs": [
    {
     "name": "stdout",
     "output_type": "stream",
     "text": [
      "Reading in list of words...\n"
     ]
    }
   ],
   "source": [
    "# use pandas to load the data\n",
    "print('Reading in list of words...')\n",
    "word_df = pd.read_csv(filepath_or_buffer = in_fpn, sep = ',', header = None)    \n",
    "# check the first few rows"
   ]
  },
  {
   "cell_type": "code",
   "execution_count": 6,
   "metadata": {},
   "outputs": [
    {
     "data": {
      "text/html": [
       "<div>\n",
       "<style scoped>\n",
       "    .dataframe tbody tr th:only-of-type {\n",
       "        vertical-align: middle;\n",
       "    }\n",
       "\n",
       "    .dataframe tbody tr th {\n",
       "        vertical-align: top;\n",
       "    }\n",
       "\n",
       "    .dataframe thead th {\n",
       "        text-align: right;\n",
       "    }\n",
       "</style>\n",
       "<table border=\"1\" class=\"dataframe\">\n",
       "  <thead>\n",
       "    <tr style=\"text-align: right;\">\n",
       "      <th></th>\n",
       "      <th>0</th>\n",
       "    </tr>\n",
       "  </thead>\n",
       "  <tbody>\n",
       "    <tr>\n",
       "      <th>0</th>\n",
       "      <td>A</td>\n",
       "    </tr>\n",
       "    <tr>\n",
       "      <th>1</th>\n",
       "      <td>a</td>\n",
       "    </tr>\n",
       "    <tr>\n",
       "      <th>2</th>\n",
       "      <td>aa</td>\n",
       "    </tr>\n",
       "    <tr>\n",
       "      <th>3</th>\n",
       "      <td>aal</td>\n",
       "    </tr>\n",
       "    <tr>\n",
       "      <th>4</th>\n",
       "      <td>aalii</td>\n",
       "    </tr>\n",
       "  </tbody>\n",
       "</table>\n",
       "</div>"
      ],
      "text/plain": [
       "       0\n",
       "0      A\n",
       "1      a\n",
       "2     aa\n",
       "3    aal\n",
       "4  aalii"
      ]
     },
     "execution_count": 6,
     "metadata": {},
     "output_type": "execute_result"
    }
   ],
   "source": [
    "# check the first few records\n",
    "word_df.head()"
   ]
  },
  {
   "cell_type": "code",
   "execution_count": 7,
   "metadata": {},
   "outputs": [],
   "source": [
    "# let's specify a a more appropriate column name\n",
    "col_names = ['word']\n",
    "word_df.columns = col_names"
   ]
  },
  {
   "cell_type": "code",
   "execution_count": 8,
   "metadata": {},
   "outputs": [
    {
     "name": "stdout",
     "output_type": "stream",
     "text": [
      "...found 235,886 words to find anagrams for...\n"
     ]
    }
   ],
   "source": [
    "# how many words are we working with?\n",
    "n_words = len(word_df)\n",
    "print('...found', '{:,}'.format(n_words), 'words to find anagrams for...')"
   ]
  },
  {
   "cell_type": "code",
   "execution_count": 9,
   "metadata": {},
   "outputs": [],
   "source": [
    "# convert the only column to a string - just to be safe.\n",
    "# nan is a word in the dictionary. nan is an internal python value.\n",
    "word_df['word'] = word_df['word'].astype(np.str)"
   ]
  },
  {
   "cell_type": "code",
   "execution_count": 10,
   "metadata": {},
   "outputs": [],
   "source": [
    "# create lower case values of the words\n",
    "word_df['lcase'] = word_df['word'].str.lower()\n",
    "# and now drop duplicates\n",
    "word_df = word_df.drop_duplicates('lcase')"
   ]
  },
  {
   "cell_type": "code",
   "execution_count": 11,
   "metadata": {},
   "outputs": [],
   "source": [
    "# 1. find word length\n",
    "word_df['n_chars'] = word_df['lcase'].str.len()"
   ]
  },
  {
   "cell_type": "code",
   "execution_count": 12,
   "metadata": {},
   "outputs": [],
   "source": [
    "# 2. extract the first letter\n",
    "word_df['first_letter'] = word_df['lcase'].str[:1]"
   ]
  },
  {
   "cell_type": "code",
   "execution_count": 13,
   "metadata": {},
   "outputs": [],
   "source": [
    "# 3. Let's aggregate the data to create a new dataframe featuring the counts of words by word length\n",
    "agg_word_df = word_df['n_chars'].groupby(word_df['n_chars']).agg(np.size).to_frame()\n",
    "col_names = ['n_words']\n",
    "agg_word_df.columns = col_names\n",
    "agg_word_df =  agg_word_df.reset_index()"
   ]
  },
  {
   "cell_type": "code",
   "execution_count": 14,
   "metadata": {},
   "outputs": [
    {
     "data": {
      "text/html": [
       "<div>\n",
       "<style scoped>\n",
       "    .dataframe tbody tr th:only-of-type {\n",
       "        vertical-align: middle;\n",
       "    }\n",
       "\n",
       "    .dataframe tbody tr th {\n",
       "        vertical-align: top;\n",
       "    }\n",
       "\n",
       "    .dataframe thead th {\n",
       "        text-align: right;\n",
       "    }\n",
       "</style>\n",
       "<table border=\"1\" class=\"dataframe\">\n",
       "  <thead>\n",
       "    <tr style=\"text-align: right;\">\n",
       "      <th></th>\n",
       "      <th>n_chars</th>\n",
       "      <th>n_words</th>\n",
       "    </tr>\n",
       "  </thead>\n",
       "  <tbody>\n",
       "    <tr>\n",
       "      <th>0</th>\n",
       "      <td>1</td>\n",
       "      <td>26</td>\n",
       "    </tr>\n",
       "    <tr>\n",
       "      <th>1</th>\n",
       "      <td>2</td>\n",
       "      <td>139</td>\n",
       "    </tr>\n",
       "    <tr>\n",
       "      <th>2</th>\n",
       "      <td>3</td>\n",
       "      <td>1294</td>\n",
       "    </tr>\n",
       "    <tr>\n",
       "      <th>3</th>\n",
       "      <td>4</td>\n",
       "      <td>4993</td>\n",
       "    </tr>\n",
       "    <tr>\n",
       "      <th>4</th>\n",
       "      <td>5</td>\n",
       "      <td>9972</td>\n",
       "    </tr>\n",
       "  </tbody>\n",
       "</table>\n",
       "</div>"
      ],
      "text/plain": [
       "   n_chars  n_words\n",
       "0        1       26\n",
       "1        2      139\n",
       "2        3     1294\n",
       "3        4     4993\n",
       "4        5     9972"
      ]
     },
     "execution_count": 14,
     "metadata": {},
     "output_type": "execute_result"
    }
   ],
   "source": [
    "agg_word_df.head()\n",
    "# there are 26 one letter words... that checks out"
   ]
  },
  {
   "cell_type": "code",
   "execution_count": 15,
   "metadata": {},
   "outputs": [
    {
     "data": {
      "text/html": [
       "<div>\n",
       "<style scoped>\n",
       "    .dataframe tbody tr th:only-of-type {\n",
       "        vertical-align: middle;\n",
       "    }\n",
       "\n",
       "    .dataframe tbody tr th {\n",
       "        vertical-align: top;\n",
       "    }\n",
       "\n",
       "    .dataframe thead th {\n",
       "        text-align: right;\n",
       "    }\n",
       "</style>\n",
       "<table border=\"1\" class=\"dataframe\">\n",
       "  <thead>\n",
       "    <tr style=\"text-align: right;\">\n",
       "      <th></th>\n",
       "      <th>n_chars</th>\n",
       "      <th>n_words</th>\n",
       "    </tr>\n",
       "  </thead>\n",
       "  <tbody>\n",
       "    <tr>\n",
       "      <th>19</th>\n",
       "      <td>20</td>\n",
       "      <td>198</td>\n",
       "    </tr>\n",
       "    <tr>\n",
       "      <th>20</th>\n",
       "      <td>21</td>\n",
       "      <td>82</td>\n",
       "    </tr>\n",
       "    <tr>\n",
       "      <th>21</th>\n",
       "      <td>22</td>\n",
       "      <td>41</td>\n",
       "    </tr>\n",
       "    <tr>\n",
       "      <th>22</th>\n",
       "      <td>23</td>\n",
       "      <td>17</td>\n",
       "    </tr>\n",
       "    <tr>\n",
       "      <th>23</th>\n",
       "      <td>24</td>\n",
       "      <td>5</td>\n",
       "    </tr>\n",
       "  </tbody>\n",
       "</table>\n",
       "</div>"
      ],
      "text/plain": [
       "    n_chars  n_words\n",
       "19       20      198\n",
       "20       21       82\n",
       "21       22       41\n",
       "22       23       17\n",
       "23       24        5"
      ]
     },
     "execution_count": 15,
     "metadata": {},
     "output_type": "execute_result"
    }
   ],
   "source": [
    "# and the tail\n",
    "agg_word_df.tail()"
   ]
  },
  {
   "cell_type": "code",
   "execution_count": 16,
   "metadata": {},
   "outputs": [],
   "source": [
    "# let's do a cross tab - word length by start character\n",
    "select_columns = ['first_letter', 'n_chars']\n",
    "ct_word_df = pd.crosstab(index=word_df['first_letter'], columns=word_df['n_chars'])"
   ]
  },
  {
   "cell_type": "code",
   "execution_count": 17,
   "metadata": {},
   "outputs": [
    {
     "data": {
      "text/html": [
       "<div>\n",
       "<style scoped>\n",
       "    .dataframe tbody tr th:only-of-type {\n",
       "        vertical-align: middle;\n",
       "    }\n",
       "\n",
       "    .dataframe tbody tr th {\n",
       "        vertical-align: top;\n",
       "    }\n",
       "\n",
       "    .dataframe thead th {\n",
       "        text-align: right;\n",
       "    }\n",
       "</style>\n",
       "<table border=\"1\" class=\"dataframe\">\n",
       "  <thead>\n",
       "    <tr style=\"text-align: right;\">\n",
       "      <th>n_chars</th>\n",
       "      <th>1</th>\n",
       "      <th>2</th>\n",
       "      <th>3</th>\n",
       "      <th>4</th>\n",
       "      <th>5</th>\n",
       "      <th>6</th>\n",
       "      <th>7</th>\n",
       "      <th>8</th>\n",
       "      <th>9</th>\n",
       "      <th>10</th>\n",
       "      <th>...</th>\n",
       "      <th>15</th>\n",
       "      <th>16</th>\n",
       "      <th>17</th>\n",
       "      <th>18</th>\n",
       "      <th>19</th>\n",
       "      <th>20</th>\n",
       "      <th>21</th>\n",
       "      <th>22</th>\n",
       "      <th>23</th>\n",
       "      <th>24</th>\n",
       "    </tr>\n",
       "    <tr>\n",
       "      <th>first_letter</th>\n",
       "      <th></th>\n",
       "      <th></th>\n",
       "      <th></th>\n",
       "      <th></th>\n",
       "      <th></th>\n",
       "      <th></th>\n",
       "      <th></th>\n",
       "      <th></th>\n",
       "      <th></th>\n",
       "      <th></th>\n",
       "      <th></th>\n",
       "      <th></th>\n",
       "      <th></th>\n",
       "      <th></th>\n",
       "      <th></th>\n",
       "      <th></th>\n",
       "      <th></th>\n",
       "      <th></th>\n",
       "      <th></th>\n",
       "      <th></th>\n",
       "      <th></th>\n",
       "    </tr>\n",
       "  </thead>\n",
       "  <tbody>\n",
       "    <tr>\n",
       "      <th>a</th>\n",
       "      <td>1</td>\n",
       "      <td>17</td>\n",
       "      <td>100</td>\n",
       "      <td>305</td>\n",
       "      <td>786</td>\n",
       "      <td>1281</td>\n",
       "      <td>1722</td>\n",
       "      <td>2073</td>\n",
       "      <td>2321</td>\n",
       "      <td>2333</td>\n",
       "      <td>...</td>\n",
       "      <td>413</td>\n",
       "      <td>228</td>\n",
       "      <td>125</td>\n",
       "      <td>64</td>\n",
       "      <td>30</td>\n",
       "      <td>19</td>\n",
       "      <td>8</td>\n",
       "      <td>2</td>\n",
       "      <td>1</td>\n",
       "      <td>0</td>\n",
       "    </tr>\n",
       "    <tr>\n",
       "      <th>b</th>\n",
       "      <td>1</td>\n",
       "      <td>5</td>\n",
       "      <td>59</td>\n",
       "      <td>332</td>\n",
       "      <td>712</td>\n",
       "      <td>1294</td>\n",
       "      <td>1634</td>\n",
       "      <td>1785</td>\n",
       "      <td>1620</td>\n",
       "      <td>1285</td>\n",
       "      <td>...</td>\n",
       "      <td>136</td>\n",
       "      <td>66</td>\n",
       "      <td>37</td>\n",
       "      <td>20</td>\n",
       "      <td>14</td>\n",
       "      <td>7</td>\n",
       "      <td>1</td>\n",
       "      <td>1</td>\n",
       "      <td>1</td>\n",
       "      <td>0</td>\n",
       "    </tr>\n",
       "    <tr>\n",
       "      <th>c</th>\n",
       "      <td>1</td>\n",
       "      <td>2</td>\n",
       "      <td>47</td>\n",
       "      <td>279</td>\n",
       "      <td>732</td>\n",
       "      <td>1408</td>\n",
       "      <td>2053</td>\n",
       "      <td>2434</td>\n",
       "      <td>2780</td>\n",
       "      <td>2639</td>\n",
       "      <td>...</td>\n",
       "      <td>503</td>\n",
       "      <td>305</td>\n",
       "      <td>171</td>\n",
       "      <td>81</td>\n",
       "      <td>43</td>\n",
       "      <td>20</td>\n",
       "      <td>15</td>\n",
       "      <td>4</td>\n",
       "      <td>0</td>\n",
       "      <td>0</td>\n",
       "    </tr>\n",
       "    <tr>\n",
       "      <th>d</th>\n",
       "      <td>1</td>\n",
       "      <td>4</td>\n",
       "      <td>59</td>\n",
       "      <td>257</td>\n",
       "      <td>451</td>\n",
       "      <td>807</td>\n",
       "      <td>1089</td>\n",
       "      <td>1396</td>\n",
       "      <td>1525</td>\n",
       "      <td>1504</td>\n",
       "      <td>...</td>\n",
       "      <td>258</td>\n",
       "      <td>129</td>\n",
       "      <td>72</td>\n",
       "      <td>31</td>\n",
       "      <td>13</td>\n",
       "      <td>6</td>\n",
       "      <td>6</td>\n",
       "      <td>4</td>\n",
       "      <td>0</td>\n",
       "      <td>0</td>\n",
       "    </tr>\n",
       "    <tr>\n",
       "      <th>e</th>\n",
       "      <td>1</td>\n",
       "      <td>11</td>\n",
       "      <td>40</td>\n",
       "      <td>118</td>\n",
       "      <td>245</td>\n",
       "      <td>538</td>\n",
       "      <td>846</td>\n",
       "      <td>1122</td>\n",
       "      <td>1260</td>\n",
       "      <td>1224</td>\n",
       "      <td>...</td>\n",
       "      <td>238</td>\n",
       "      <td>124</td>\n",
       "      <td>78</td>\n",
       "      <td>40</td>\n",
       "      <td>29</td>\n",
       "      <td>12</td>\n",
       "      <td>3</td>\n",
       "      <td>2</td>\n",
       "      <td>1</td>\n",
       "      <td>0</td>\n",
       "    </tr>\n",
       "  </tbody>\n",
       "</table>\n",
       "<p>5 rows × 24 columns</p>\n",
       "</div>"
      ],
      "text/plain": [
       "n_chars       1   2    3    4    5     6     7     8     9     10  ...   15  \\\n",
       "first_letter                                                       ...        \n",
       "a              1  17  100  305  786  1281  1722  2073  2321  2333  ...  413   \n",
       "b              1   5   59  332  712  1294  1634  1785  1620  1285  ...  136   \n",
       "c              1   2   47  279  732  1408  2053  2434  2780  2639  ...  503   \n",
       "d              1   4   59  257  451   807  1089  1396  1525  1504  ...  258   \n",
       "e              1  11   40  118  245   538   846  1122  1260  1224  ...  238   \n",
       "\n",
       "n_chars        16   17  18  19  20  21  22  23  24  \n",
       "first_letter                                        \n",
       "a             228  125  64  30  19   8   2   1   0  \n",
       "b              66   37  20  14   7   1   1   1   0  \n",
       "c             305  171  81  43  20  15   4   0   0  \n",
       "d             129   72  31  13   6   6   4   0   0  \n",
       "e             124   78  40  29  12   3   2   1   0  \n",
       "\n",
       "[5 rows x 24 columns]"
      ]
     },
     "execution_count": 17,
     "metadata": {},
     "output_type": "execute_result"
    }
   ],
   "source": [
    "# check it\n",
    "ct_word_df.head()\n",
    "# looks right"
   ]
  },
  {
   "cell_type": "code",
   "execution_count": 18,
   "metadata": {},
   "outputs": [],
   "source": [
    "#  reset the index and write to excel\n",
    "ct_word_df = ct_word_df.reset_index()"
   ]
  },
  {
   "cell_type": "code",
   "execution_count": 19,
   "metadata": {},
   "outputs": [
    {
     "data": {
      "text/html": [
       "<div>\n",
       "<style scoped>\n",
       "    .dataframe tbody tr th:only-of-type {\n",
       "        vertical-align: middle;\n",
       "    }\n",
       "\n",
       "    .dataframe tbody tr th {\n",
       "        vertical-align: top;\n",
       "    }\n",
       "\n",
       "    .dataframe thead th {\n",
       "        text-align: right;\n",
       "    }\n",
       "</style>\n",
       "<table border=\"1\" class=\"dataframe\">\n",
       "  <thead>\n",
       "    <tr style=\"text-align: right;\">\n",
       "      <th>n_chars</th>\n",
       "      <th>first_letter</th>\n",
       "      <th>1</th>\n",
       "      <th>2</th>\n",
       "      <th>3</th>\n",
       "      <th>4</th>\n",
       "      <th>5</th>\n",
       "      <th>6</th>\n",
       "      <th>7</th>\n",
       "      <th>8</th>\n",
       "      <th>9</th>\n",
       "      <th>...</th>\n",
       "      <th>15</th>\n",
       "      <th>16</th>\n",
       "      <th>17</th>\n",
       "      <th>18</th>\n",
       "      <th>19</th>\n",
       "      <th>20</th>\n",
       "      <th>21</th>\n",
       "      <th>22</th>\n",
       "      <th>23</th>\n",
       "      <th>24</th>\n",
       "    </tr>\n",
       "  </thead>\n",
       "  <tbody>\n",
       "    <tr>\n",
       "      <th>0</th>\n",
       "      <td>a</td>\n",
       "      <td>1</td>\n",
       "      <td>17</td>\n",
       "      <td>100</td>\n",
       "      <td>305</td>\n",
       "      <td>786</td>\n",
       "      <td>1281</td>\n",
       "      <td>1722</td>\n",
       "      <td>2073</td>\n",
       "      <td>2321</td>\n",
       "      <td>...</td>\n",
       "      <td>413</td>\n",
       "      <td>228</td>\n",
       "      <td>125</td>\n",
       "      <td>64</td>\n",
       "      <td>30</td>\n",
       "      <td>19</td>\n",
       "      <td>8</td>\n",
       "      <td>2</td>\n",
       "      <td>1</td>\n",
       "      <td>0</td>\n",
       "    </tr>\n",
       "    <tr>\n",
       "      <th>1</th>\n",
       "      <td>b</td>\n",
       "      <td>1</td>\n",
       "      <td>5</td>\n",
       "      <td>59</td>\n",
       "      <td>332</td>\n",
       "      <td>712</td>\n",
       "      <td>1294</td>\n",
       "      <td>1634</td>\n",
       "      <td>1785</td>\n",
       "      <td>1620</td>\n",
       "      <td>...</td>\n",
       "      <td>136</td>\n",
       "      <td>66</td>\n",
       "      <td>37</td>\n",
       "      <td>20</td>\n",
       "      <td>14</td>\n",
       "      <td>7</td>\n",
       "      <td>1</td>\n",
       "      <td>1</td>\n",
       "      <td>1</td>\n",
       "      <td>0</td>\n",
       "    </tr>\n",
       "    <tr>\n",
       "      <th>2</th>\n",
       "      <td>c</td>\n",
       "      <td>1</td>\n",
       "      <td>2</td>\n",
       "      <td>47</td>\n",
       "      <td>279</td>\n",
       "      <td>732</td>\n",
       "      <td>1408</td>\n",
       "      <td>2053</td>\n",
       "      <td>2434</td>\n",
       "      <td>2780</td>\n",
       "      <td>...</td>\n",
       "      <td>503</td>\n",
       "      <td>305</td>\n",
       "      <td>171</td>\n",
       "      <td>81</td>\n",
       "      <td>43</td>\n",
       "      <td>20</td>\n",
       "      <td>15</td>\n",
       "      <td>4</td>\n",
       "      <td>0</td>\n",
       "      <td>0</td>\n",
       "    </tr>\n",
       "    <tr>\n",
       "      <th>3</th>\n",
       "      <td>d</td>\n",
       "      <td>1</td>\n",
       "      <td>4</td>\n",
       "      <td>59</td>\n",
       "      <td>257</td>\n",
       "      <td>451</td>\n",
       "      <td>807</td>\n",
       "      <td>1089</td>\n",
       "      <td>1396</td>\n",
       "      <td>1525</td>\n",
       "      <td>...</td>\n",
       "      <td>258</td>\n",
       "      <td>129</td>\n",
       "      <td>72</td>\n",
       "      <td>31</td>\n",
       "      <td>13</td>\n",
       "      <td>6</td>\n",
       "      <td>6</td>\n",
       "      <td>4</td>\n",
       "      <td>0</td>\n",
       "      <td>0</td>\n",
       "    </tr>\n",
       "    <tr>\n",
       "      <th>4</th>\n",
       "      <td>e</td>\n",
       "      <td>1</td>\n",
       "      <td>11</td>\n",
       "      <td>40</td>\n",
       "      <td>118</td>\n",
       "      <td>245</td>\n",
       "      <td>538</td>\n",
       "      <td>846</td>\n",
       "      <td>1122</td>\n",
       "      <td>1260</td>\n",
       "      <td>...</td>\n",
       "      <td>238</td>\n",
       "      <td>124</td>\n",
       "      <td>78</td>\n",
       "      <td>40</td>\n",
       "      <td>29</td>\n",
       "      <td>12</td>\n",
       "      <td>3</td>\n",
       "      <td>2</td>\n",
       "      <td>1</td>\n",
       "      <td>0</td>\n",
       "    </tr>\n",
       "  </tbody>\n",
       "</table>\n",
       "<p>5 rows × 25 columns</p>\n",
       "</div>"
      ],
      "text/plain": [
       "n_chars first_letter  1   2    3    4    5     6     7     8     9  ...   15  \\\n",
       "0                  a  1  17  100  305  786  1281  1722  2073  2321  ...  413   \n",
       "1                  b  1   5   59  332  712  1294  1634  1785  1620  ...  136   \n",
       "2                  c  1   2   47  279  732  1408  2053  2434  2780  ...  503   \n",
       "3                  d  1   4   59  257  451   807  1089  1396  1525  ...  258   \n",
       "4                  e  1  11   40  118  245   538   846  1122  1260  ...  238   \n",
       "\n",
       "n_chars   16   17  18  19  20  21  22  23  24  \n",
       "0        228  125  64  30  19   8   2   1   0  \n",
       "1         66   37  20  14   7   1   1   1   0  \n",
       "2        305  171  81  43  20  15   4   0   0  \n",
       "3        129   72  31  13   6   6   4   0   0  \n",
       "4        124   78  40  29  12   3   2   1   0  \n",
       "\n",
       "[5 rows x 25 columns]"
      ]
     },
     "execution_count": 19,
     "metadata": {},
     "output_type": "execute_result"
    }
   ],
   "source": [
    "ct_word_df.head()"
   ]
  },
  {
   "cell_type": "code",
   "execution_count": 20,
   "metadata": {},
   "outputs": [],
   "source": [
    "# the amazing thing about pandas is that we can write to disk in a variety of formats.\n",
    "# Let's pick excel for now."
   ]
  },
  {
   "cell_type": "code",
   "execution_count": 21,
   "metadata": {},
   "outputs": [],
   "source": [
    "# setup the output path\n",
    "e_file_path = 'H:/git/anagrams'\n",
    "e_file_name = 'words_analysis.xlsx'\n",
    "e_fpn = os.path.join(e_file_path, e_file_name)\n",
    "e_fpn = e_file_name"
   ]
  },
  {
   "cell_type": "code",
   "execution_count": 22,
   "metadata": {},
   "outputs": [],
   "source": [
    "# create the writer object\n",
    "e_writer = pd.ExcelWriter(e_fpn)"
   ]
  },
  {
   "cell_type": "code",
   "execution_count": 23,
   "metadata": {},
   "outputs": [],
   "source": [
    "# let's first write the list of words\n",
    "word_df.to_excel(excel_writer=e_writer, sheet_name='word_list', index = False)"
   ]
  },
  {
   "cell_type": "code",
   "execution_count": 24,
   "metadata": {},
   "outputs": [],
   "source": [
    "# let's write the count of words by character length\n",
    "agg_word_df.to_excel(excel_writer=e_writer, sheet_name='word_count_by_length', index = False)"
   ]
  },
  {
   "cell_type": "code",
   "execution_count": 25,
   "metadata": {},
   "outputs": [],
   "source": [
    "ct_word_df.to_excel(excel_writer=e_writer, sheet_name='word_count_by_length_by_letter', index = False)"
   ]
  },
  {
   "cell_type": "code",
   "execution_count": 26,
   "metadata": {},
   "outputs": [],
   "source": [
    "# save and close the excel file\n",
    "e_writer.save()\n",
    "e_writer.close()"
   ]
  },
  {
   "cell_type": "code",
   "execution_count": 27,
   "metadata": {},
   "outputs": [
    {
     "data": {
      "text/html": [
       "<div>\n",
       "<style scoped>\n",
       "    .dataframe tbody tr th:only-of-type {\n",
       "        vertical-align: middle;\n",
       "    }\n",
       "\n",
       "    .dataframe tbody tr th {\n",
       "        vertical-align: top;\n",
       "    }\n",
       "\n",
       "    .dataframe thead th {\n",
       "        text-align: right;\n",
       "    }\n",
       "</style>\n",
       "<table border=\"1\" class=\"dataframe\">\n",
       "  <thead>\n",
       "    <tr style=\"text-align: right;\">\n",
       "      <th></th>\n",
       "      <th>word</th>\n",
       "      <th>lcase</th>\n",
       "      <th>n_chars</th>\n",
       "      <th>first_letter</th>\n",
       "    </tr>\n",
       "  </thead>\n",
       "  <tbody>\n",
       "    <tr>\n",
       "      <th>0</th>\n",
       "      <td>A</td>\n",
       "      <td>a</td>\n",
       "      <td>1</td>\n",
       "      <td>a</td>\n",
       "    </tr>\n",
       "    <tr>\n",
       "      <th>2</th>\n",
       "      <td>aa</td>\n",
       "      <td>aa</td>\n",
       "      <td>2</td>\n",
       "      <td>a</td>\n",
       "    </tr>\n",
       "    <tr>\n",
       "      <th>3</th>\n",
       "      <td>aal</td>\n",
       "      <td>aal</td>\n",
       "      <td>3</td>\n",
       "      <td>a</td>\n",
       "    </tr>\n",
       "    <tr>\n",
       "      <th>4</th>\n",
       "      <td>aalii</td>\n",
       "      <td>aalii</td>\n",
       "      <td>5</td>\n",
       "      <td>a</td>\n",
       "    </tr>\n",
       "    <tr>\n",
       "      <th>5</th>\n",
       "      <td>aam</td>\n",
       "      <td>aam</td>\n",
       "      <td>3</td>\n",
       "      <td>a</td>\n",
       "    </tr>\n",
       "  </tbody>\n",
       "</table>\n",
       "</div>"
      ],
      "text/plain": [
       "    word  lcase  n_chars first_letter\n",
       "0      A      a        1            a\n",
       "2     aa     aa        2            a\n",
       "3    aal    aal        3            a\n",
       "4  aalii  aalii        5            a\n",
       "5    aam    aam        3            a"
      ]
     },
     "execution_count": 27,
     "metadata": {},
     "output_type": "execute_result"
    }
   ],
   "source": [
    "word_df.head()"
   ]
  },
  {
   "cell_type": "markdown",
   "metadata": {},
   "source": [
    "# what if we were trying to find all words by a brute-force technique?"
   ]
  },
  {
   "cell_type": "code",
   "execution_count": 28,
   "metadata": {},
   "outputs": [],
   "source": [
    "# let's play with pandas to learn some facts about our list of words and show case how to use pandas\n",
    "# we're going to make extensive use of the string functions in python and the pandas variates\n",
    "# pure python: https://docs.python.org/3.6/library/string.html\n",
    "# pandas versions: https://pandas.pydata.org/pandas-docs/stable/text.html#working-with-text-data"
   ]
  },
  {
   "cell_type": "code",
   "execution_count": 29,
   "metadata": {},
   "outputs": [],
   "source": [
    "# what is the maximum character length?\n",
    "max_char_length = agg_word_df['n_chars'].max()"
   ]
  },
  {
   "cell_type": "code",
   "execution_count": 30,
   "metadata": {},
   "outputs": [],
   "source": [
    "max_char_length = 20"
   ]
  },
  {
   "cell_type": "code",
   "execution_count": 31,
   "metadata": {},
   "outputs": [
    {
     "data": {
      "text/plain": [
       "20"
      ]
     },
     "execution_count": 31,
     "metadata": {},
     "output_type": "execute_result"
    }
   ],
   "source": [
    "max_char_length"
   ]
  },
  {
   "cell_type": "code",
   "execution_count": 32,
   "metadata": {},
   "outputs": [],
   "source": [
    "# how many possible combinations are there?"
   ]
  },
  {
   "cell_type": "code",
   "execution_count": 33,
   "metadata": {},
   "outputs": [],
   "source": [
    "n_permutations = math.factorial(max_char_length)"
   ]
  },
  {
   "cell_type": "code",
   "execution_count": 34,
   "metadata": {},
   "outputs": [
    {
     "data": {
      "text/plain": [
       "2432902008176640000"
      ]
     },
     "execution_count": 34,
     "metadata": {},
     "output_type": "execute_result"
    }
   ],
   "source": [
    "n_permutations"
   ]
  },
  {
   "cell_type": "code",
   "execution_count": 35,
   "metadata": {},
   "outputs": [],
   "source": [
    "# to check all permutations for one 24-character word\n",
    "# assuming our computer can perform x checks per second\n",
    "checks_per_second = 100000"
   ]
  },
  {
   "cell_type": "code",
   "execution_count": 36,
   "metadata": {},
   "outputs": [],
   "source": [
    "n_seconds = n_permutations / checks_per_second"
   ]
  },
  {
   "cell_type": "code",
   "execution_count": 37,
   "metadata": {},
   "outputs": [
    {
     "name": "stdout",
     "output_type": "stream",
     "text": [
      "examining permutations takes 24,329,020,081,766.4 seconds...\n"
     ]
    }
   ],
   "source": [
    "print('examining permutations takes', '{:,}'.format(n_seconds), 'seconds...')"
   ]
  },
  {
   "cell_type": "code",
   "execution_count": 38,
   "metadata": {},
   "outputs": [],
   "source": [
    "n_minutes = n_seconds / 60 "
   ]
  },
  {
   "cell_type": "code",
   "execution_count": 39,
   "metadata": {},
   "outputs": [
    {
     "name": "stdout",
     "output_type": "stream",
     "text": [
      "examining permutations takes 405,483,668,029.44 minutes...\n"
     ]
    }
   ],
   "source": [
    "print('examining permutations takes', '{:,}'.format(n_minutes), 'minutes...')"
   ]
  },
  {
   "cell_type": "code",
   "execution_count": 40,
   "metadata": {},
   "outputs": [],
   "source": [
    "n_hours = n_minutes / 60"
   ]
  },
  {
   "cell_type": "code",
   "execution_count": 41,
   "metadata": {},
   "outputs": [
    {
     "name": "stdout",
     "output_type": "stream",
     "text": [
      "examining permutations takes 6,758,061,133.824 hours...\n"
     ]
    }
   ],
   "source": [
    "print('examining permutations takes', '{:,}'.format(n_hours), 'hours...')"
   ]
  },
  {
   "cell_type": "code",
   "execution_count": 42,
   "metadata": {},
   "outputs": [],
   "source": [
    "n_days = n_hours / 24"
   ]
  },
  {
   "cell_type": "code",
   "execution_count": 43,
   "metadata": {},
   "outputs": [
    {
     "name": "stdout",
     "output_type": "stream",
     "text": [
      "examining permutations takes 281,585,880.57600003 days...\n"
     ]
    }
   ],
   "source": [
    "print('examining permutations takes', '{:,}'.format(n_days), 'days...')"
   ]
  },
  {
   "cell_type": "code",
   "execution_count": 44,
   "metadata": {},
   "outputs": [],
   "source": [
    "n_years = n_days / 365"
   ]
  },
  {
   "cell_type": "code",
   "execution_count": 45,
   "metadata": {},
   "outputs": [
    {
     "name": "stdout",
     "output_type": "stream",
     "text": [
      "examining permutations takes 771,468.1659616439 years...\n"
     ]
    }
   ],
   "source": [
    "print('examining permutations takes', '{:,}'.format(n_years), 'years...')"
   ]
  },
  {
   "cell_type": "code",
   "execution_count": 46,
   "metadata": {},
   "outputs": [],
   "source": [
    "# if we were to check all permutations of all words...\n",
    "agg_word_df['n_char_factorial'] = agg_word_df['n_chars'].map(math.factorial)"
   ]
  },
  {
   "cell_type": "code",
   "execution_count": 47,
   "metadata": {},
   "outputs": [],
   "source": [
    "# and do that for each word...\n",
    "agg_word_df['n_char_checks'] = agg_word_df['n_words'] * agg_word_df['n_char_factorial']"
   ]
  },
  {
   "cell_type": "code",
   "execution_count": 48,
   "metadata": {},
   "outputs": [],
   "source": [
    "total_checks = agg_word_df['n_char_checks'].sum()"
   ]
  },
  {
   "cell_type": "code",
   "execution_count": 49,
   "metadata": {},
   "outputs": [],
   "source": [
    "# assuming we can process:\n",
    "# 1M permutations a second\n",
    "checks_per_second = 1000000000"
   ]
  },
  {
   "cell_type": "code",
   "execution_count": 50,
   "metadata": {},
   "outputs": [],
   "source": [
    "processing_time = total_checks / checks_per_second"
   ]
  },
  {
   "cell_type": "code",
   "execution_count": 51,
   "metadata": {},
   "outputs": [],
   "source": [
    "processing_years = processing_time / 60 / 60 / 24 / 365"
   ]
  },
  {
   "cell_type": "code",
   "execution_count": 52,
   "metadata": {},
   "outputs": [
    {
     "name": "stdout",
     "output_type": "stream",
     "text": [
      "examining all permutations takes 113,918,685.75722675 years...\n"
     ]
    }
   ],
   "source": [
    "print('examining all permutations takes', '{:,}'.format(processing_years), 'years...')"
   ]
  },
  {
   "cell_type": "code",
   "execution_count": 53,
   "metadata": {},
   "outputs": [],
   "source": [
    "# that's a long time!"
   ]
  },
  {
   "cell_type": "markdown",
   "metadata": {},
   "source": [
    "# let's re-think our approach by first focusing on one word: time"
   ]
  },
  {
   "cell_type": "code",
   "execution_count": 54,
   "metadata": {},
   "outputs": [
    {
     "name": "stdout",
     "output_type": "stream",
     "text": [
      "('t', 'i', 'm', 'e')\n",
      "('t', 'i', 'e', 'm')\n",
      "('t', 'm', 'i', 'e')\n",
      "('t', 'm', 'e', 'i')\n",
      "('t', 'e', 'i', 'm')\n",
      "('t', 'e', 'm', 'i')\n",
      "('i', 't', 'm', 'e')\n",
      "('i', 't', 'e', 'm')\n",
      "('i', 'm', 't', 'e')\n",
      "('i', 'm', 'e', 't')\n",
      "('i', 'e', 't', 'm')\n",
      "('i', 'e', 'm', 't')\n",
      "('m', 't', 'i', 'e')\n",
      "('m', 't', 'e', 'i')\n",
      "('m', 'i', 't', 'e')\n",
      "('m', 'i', 'e', 't')\n",
      "('m', 'e', 't', 'i')\n",
      "('m', 'e', 'i', 't')\n",
      "('e', 't', 'i', 'm')\n",
      "('e', 't', 'm', 'i')\n",
      "('e', 'i', 't', 'm')\n",
      "('e', 'i', 'm', 't')\n",
      "('e', 'm', 't', 'i')\n",
      "('e', 'm', 'i', 't')\n"
     ]
    }
   ],
   "source": [
    "for p in permutations('time'):\n",
    "    print(p)"
   ]
  },
  {
   "cell_type": "code",
   "execution_count": 55,
   "metadata": {},
   "outputs": [
    {
     "data": {
      "text/plain": [
       "tuple"
      ]
     },
     "execution_count": 55,
     "metadata": {},
     "output_type": "execute_result"
    }
   ],
   "source": [
    "type(p)"
   ]
  },
  {
   "cell_type": "code",
   "execution_count": 56,
   "metadata": {},
   "outputs": [
    {
     "name": "stdout",
     "output_type": "stream",
     "text": [
      "time\n",
      "tiem\n",
      "tmie\n",
      "tmei\n",
      "teim\n",
      "temi\n",
      "itme\n",
      "item\n",
      "imte\n",
      "imet\n",
      "ietm\n",
      "iemt\n",
      "mtie\n",
      "mtei\n",
      "mite\n",
      "miet\n",
      "meti\n",
      "meit\n",
      "etim\n",
      "etmi\n",
      "eitm\n",
      "eimt\n",
      "emti\n",
      "emit\n"
     ]
    }
   ],
   "source": [
    "for p in permutations('time'):\n",
    "    new_word = ''.join(p)\n",
    "    print(new_word)    "
   ]
  },
  {
   "cell_type": "code",
   "execution_count": 57,
   "metadata": {},
   "outputs": [
    {
     "name": "stdout",
     "output_type": "stream",
     "text": [
      "eimt\n",
      "eimt\n",
      "eimt\n",
      "eimt\n",
      "eimt\n",
      "eimt\n",
      "eimt\n",
      "eimt\n",
      "eimt\n",
      "eimt\n",
      "eimt\n",
      "eimt\n",
      "eimt\n",
      "eimt\n",
      "eimt\n",
      "eimt\n",
      "eimt\n",
      "eimt\n",
      "eimt\n",
      "eimt\n",
      "eimt\n",
      "eimt\n",
      "eimt\n",
      "eimt\n"
     ]
    }
   ],
   "source": [
    "for p in permutations('time'):    \n",
    "    new_word = ''.join(sorted(p))\n",
    "    print(new_word)"
   ]
  },
  {
   "cell_type": "code",
   "execution_count": 58,
   "metadata": {},
   "outputs": [],
   "source": [
    "sorted_word_group = 'eimt'"
   ]
  },
  {
   "cell_type": "code",
   "execution_count": 59,
   "metadata": {},
   "outputs": [],
   "source": [
    "words_to_examine = ['time', 'mite', 'emit', 'item', 'rite']"
   ]
  },
  {
   "cell_type": "code",
   "execution_count": 60,
   "metadata": {},
   "outputs": [
    {
     "name": "stdout",
     "output_type": "stream",
     "text": [
      "time is in the eimt group\n",
      "mite is in the eimt group\n",
      "emit is in the eimt group\n",
      "item is in the eimt group\n",
      "rite is NOT in the eimt group\n"
     ]
    }
   ],
   "source": [
    "for word in words_to_examine:    \n",
    "    sorted_word = sorted(word)\n",
    "    if ''.join(sorted_word) == sorted_word_group:\n",
    "        print(word, 'is in the', sorted_word_group, 'group')\n",
    "    else:\n",
    "        print(word, 'is NOT in the', sorted_word_group, 'group')"
   ]
  },
  {
   "cell_type": "code",
   "execution_count": 61,
   "metadata": {},
   "outputs": [],
   "source": [
    "# so we're going to do the same with pandas.\n",
    "# But we need to write a function to do this. \n",
    "\n",
    "def create_sort_word(word):\n",
    "    sorted_word = sorted(word)\n",
    "    output_word = ''.join(sorted_word)    \n",
    "    return output_word"
   ]
  },
  {
   "cell_type": "code",
   "execution_count": 62,
   "metadata": {},
   "outputs": [],
   "source": [
    "word_df['word_group'] = word_df['lcase'].map(create_sort_word)"
   ]
  },
  {
   "cell_type": "code",
   "execution_count": 63,
   "metadata": {},
   "outputs": [],
   "source": [
    "word_df['sorted_word'] = word_df['lcase'].map(sorted)"
   ]
  },
  {
   "cell_type": "code",
   "execution_count": 64,
   "metadata": {},
   "outputs": [],
   "source": [
    "word_df['word_group_2'] = word_df['sorted_word'].map(lambda x: ''.join(x))"
   ]
  },
  {
   "cell_type": "code",
   "execution_count": 65,
   "metadata": {},
   "outputs": [],
   "source": [
    "word_df['word_group_3'] = word_df['lcase'].map(sorted).map(lambda x: ''.join(x))"
   ]
  },
  {
   "cell_type": "code",
   "execution_count": 66,
   "metadata": {},
   "outputs": [],
   "source": [
    "word_df['word_group_4'] = word_df['lcase'].map(lambda x: ''.join(sorted(x)))"
   ]
  },
  {
   "cell_type": "code",
   "execution_count": 67,
   "metadata": {},
   "outputs": [
    {
     "data": {
      "text/html": [
       "<div>\n",
       "<style scoped>\n",
       "    .dataframe tbody tr th:only-of-type {\n",
       "        vertical-align: middle;\n",
       "    }\n",
       "\n",
       "    .dataframe tbody tr th {\n",
       "        vertical-align: top;\n",
       "    }\n",
       "\n",
       "    .dataframe thead th {\n",
       "        text-align: right;\n",
       "    }\n",
       "</style>\n",
       "<table border=\"1\" class=\"dataframe\">\n",
       "  <thead>\n",
       "    <tr style=\"text-align: right;\">\n",
       "      <th></th>\n",
       "      <th>word</th>\n",
       "      <th>lcase</th>\n",
       "      <th>n_chars</th>\n",
       "      <th>first_letter</th>\n",
       "      <th>word_group</th>\n",
       "      <th>sorted_word</th>\n",
       "      <th>word_group_2</th>\n",
       "      <th>word_group_3</th>\n",
       "      <th>word_group_4</th>\n",
       "    </tr>\n",
       "  </thead>\n",
       "  <tbody>\n",
       "    <tr>\n",
       "      <th>0</th>\n",
       "      <td>A</td>\n",
       "      <td>a</td>\n",
       "      <td>1</td>\n",
       "      <td>a</td>\n",
       "      <td>a</td>\n",
       "      <td>[a]</td>\n",
       "      <td>a</td>\n",
       "      <td>a</td>\n",
       "      <td>a</td>\n",
       "    </tr>\n",
       "    <tr>\n",
       "      <th>2</th>\n",
       "      <td>aa</td>\n",
       "      <td>aa</td>\n",
       "      <td>2</td>\n",
       "      <td>a</td>\n",
       "      <td>aa</td>\n",
       "      <td>[a, a]</td>\n",
       "      <td>aa</td>\n",
       "      <td>aa</td>\n",
       "      <td>aa</td>\n",
       "    </tr>\n",
       "    <tr>\n",
       "      <th>3</th>\n",
       "      <td>aal</td>\n",
       "      <td>aal</td>\n",
       "      <td>3</td>\n",
       "      <td>a</td>\n",
       "      <td>aal</td>\n",
       "      <td>[a, a, l]</td>\n",
       "      <td>aal</td>\n",
       "      <td>aal</td>\n",
       "      <td>aal</td>\n",
       "    </tr>\n",
       "    <tr>\n",
       "      <th>4</th>\n",
       "      <td>aalii</td>\n",
       "      <td>aalii</td>\n",
       "      <td>5</td>\n",
       "      <td>a</td>\n",
       "      <td>aaiil</td>\n",
       "      <td>[a, a, i, i, l]</td>\n",
       "      <td>aaiil</td>\n",
       "      <td>aaiil</td>\n",
       "      <td>aaiil</td>\n",
       "    </tr>\n",
       "    <tr>\n",
       "      <th>5</th>\n",
       "      <td>aam</td>\n",
       "      <td>aam</td>\n",
       "      <td>3</td>\n",
       "      <td>a</td>\n",
       "      <td>aam</td>\n",
       "      <td>[a, a, m]</td>\n",
       "      <td>aam</td>\n",
       "      <td>aam</td>\n",
       "      <td>aam</td>\n",
       "    </tr>\n",
       "  </tbody>\n",
       "</table>\n",
       "</div>"
      ],
      "text/plain": [
       "    word  lcase  n_chars first_letter word_group      sorted_word  \\\n",
       "0      A      a        1            a          a              [a]   \n",
       "2     aa     aa        2            a         aa           [a, a]   \n",
       "3    aal    aal        3            a        aal        [a, a, l]   \n",
       "4  aalii  aalii        5            a      aaiil  [a, a, i, i, l]   \n",
       "5    aam    aam        3            a        aam        [a, a, m]   \n",
       "\n",
       "  word_group_2 word_group_3 word_group_4  \n",
       "0            a            a            a  \n",
       "2           aa           aa           aa  \n",
       "3          aal          aal          aal  \n",
       "4        aaiil        aaiil        aaiil  \n",
       "5          aam          aam          aam  "
      ]
     },
     "execution_count": 67,
     "metadata": {},
     "output_type": "execute_result"
    }
   ],
   "source": [
    "word_df.head()"
   ]
  },
  {
   "cell_type": "code",
   "execution_count": 68,
   "metadata": {},
   "outputs": [
    {
     "data": {
      "text/html": [
       "<div>\n",
       "<style scoped>\n",
       "    .dataframe tbody tr th:only-of-type {\n",
       "        vertical-align: middle;\n",
       "    }\n",
       "\n",
       "    .dataframe tbody tr th {\n",
       "        vertical-align: top;\n",
       "    }\n",
       "\n",
       "    .dataframe thead th {\n",
       "        text-align: right;\n",
       "    }\n",
       "</style>\n",
       "<table border=\"1\" class=\"dataframe\">\n",
       "  <thead>\n",
       "    <tr style=\"text-align: right;\">\n",
       "      <th></th>\n",
       "      <th>word</th>\n",
       "      <th>lcase</th>\n",
       "      <th>n_chars</th>\n",
       "      <th>first_letter</th>\n",
       "      <th>word_group</th>\n",
       "      <th>sorted_word</th>\n",
       "      <th>word_group_2</th>\n",
       "      <th>word_group_3</th>\n",
       "      <th>word_group_4</th>\n",
       "    </tr>\n",
       "  </thead>\n",
       "  <tbody>\n",
       "    <tr>\n",
       "      <th>0</th>\n",
       "      <td>A</td>\n",
       "      <td>a</td>\n",
       "      <td>1</td>\n",
       "      <td>a</td>\n",
       "      <td>a</td>\n",
       "      <td>[a]</td>\n",
       "      <td>a</td>\n",
       "      <td>a</td>\n",
       "      <td>a</td>\n",
       "    </tr>\n",
       "    <tr>\n",
       "      <th>2</th>\n",
       "      <td>aa</td>\n",
       "      <td>aa</td>\n",
       "      <td>2</td>\n",
       "      <td>a</td>\n",
       "      <td>aa</td>\n",
       "      <td>[a, a]</td>\n",
       "      <td>aa</td>\n",
       "      <td>aa</td>\n",
       "      <td>aa</td>\n",
       "    </tr>\n",
       "    <tr>\n",
       "      <th>3</th>\n",
       "      <td>aal</td>\n",
       "      <td>aal</td>\n",
       "      <td>3</td>\n",
       "      <td>a</td>\n",
       "      <td>aal</td>\n",
       "      <td>[a, a, l]</td>\n",
       "      <td>aal</td>\n",
       "      <td>aal</td>\n",
       "      <td>aal</td>\n",
       "    </tr>\n",
       "    <tr>\n",
       "      <th>4</th>\n",
       "      <td>aalii</td>\n",
       "      <td>aalii</td>\n",
       "      <td>5</td>\n",
       "      <td>a</td>\n",
       "      <td>aaiil</td>\n",
       "      <td>[a, a, i, i, l]</td>\n",
       "      <td>aaiil</td>\n",
       "      <td>aaiil</td>\n",
       "      <td>aaiil</td>\n",
       "    </tr>\n",
       "    <tr>\n",
       "      <th>5</th>\n",
       "      <td>aam</td>\n",
       "      <td>aam</td>\n",
       "      <td>3</td>\n",
       "      <td>a</td>\n",
       "      <td>aam</td>\n",
       "      <td>[a, a, m]</td>\n",
       "      <td>aam</td>\n",
       "      <td>aam</td>\n",
       "      <td>aam</td>\n",
       "    </tr>\n",
       "  </tbody>\n",
       "</table>\n",
       "</div>"
      ],
      "text/plain": [
       "    word  lcase  n_chars first_letter word_group      sorted_word  \\\n",
       "0      A      a        1            a          a              [a]   \n",
       "2     aa     aa        2            a         aa           [a, a]   \n",
       "3    aal    aal        3            a        aal        [a, a, l]   \n",
       "4  aalii  aalii        5            a      aaiil  [a, a, i, i, l]   \n",
       "5    aam    aam        3            a        aam        [a, a, m]   \n",
       "\n",
       "  word_group_2 word_group_3 word_group_4  \n",
       "0            a            a            a  \n",
       "2           aa           aa           aa  \n",
       "3          aal          aal          aal  \n",
       "4        aaiil        aaiil        aaiil  \n",
       "5          aam          aam          aam  "
      ]
     },
     "execution_count": 68,
     "metadata": {},
     "output_type": "execute_result"
    }
   ],
   "source": [
    "# let's check our work\n",
    "word_df.head()"
   ]
  },
  {
   "cell_type": "code",
   "execution_count": 69,
   "metadata": {},
   "outputs": [
    {
     "data": {
      "text/html": [
       "<div>\n",
       "<style scoped>\n",
       "    .dataframe tbody tr th:only-of-type {\n",
       "        vertical-align: middle;\n",
       "    }\n",
       "\n",
       "    .dataframe tbody tr th {\n",
       "        vertical-align: top;\n",
       "    }\n",
       "\n",
       "    .dataframe thead th {\n",
       "        text-align: right;\n",
       "    }\n",
       "</style>\n",
       "<table border=\"1\" class=\"dataframe\">\n",
       "  <thead>\n",
       "    <tr style=\"text-align: right;\">\n",
       "      <th></th>\n",
       "      <th>word</th>\n",
       "      <th>lcase</th>\n",
       "      <th>n_chars</th>\n",
       "      <th>first_letter</th>\n",
       "      <th>word_group</th>\n",
       "      <th>sorted_word</th>\n",
       "      <th>word_group_2</th>\n",
       "      <th>word_group_3</th>\n",
       "      <th>word_group_4</th>\n",
       "    </tr>\n",
       "  </thead>\n",
       "  <tbody>\n",
       "    <tr>\n",
       "      <th>235881</th>\n",
       "      <td>zythem</td>\n",
       "      <td>zythem</td>\n",
       "      <td>6</td>\n",
       "      <td>z</td>\n",
       "      <td>ehmtyz</td>\n",
       "      <td>[e, h, m, t, y, z]</td>\n",
       "      <td>ehmtyz</td>\n",
       "      <td>ehmtyz</td>\n",
       "      <td>ehmtyz</td>\n",
       "    </tr>\n",
       "    <tr>\n",
       "      <th>235882</th>\n",
       "      <td>Zythia</td>\n",
       "      <td>zythia</td>\n",
       "      <td>6</td>\n",
       "      <td>z</td>\n",
       "      <td>ahityz</td>\n",
       "      <td>[a, h, i, t, y, z]</td>\n",
       "      <td>ahityz</td>\n",
       "      <td>ahityz</td>\n",
       "      <td>ahityz</td>\n",
       "    </tr>\n",
       "    <tr>\n",
       "      <th>235883</th>\n",
       "      <td>zythum</td>\n",
       "      <td>zythum</td>\n",
       "      <td>6</td>\n",
       "      <td>z</td>\n",
       "      <td>hmtuyz</td>\n",
       "      <td>[h, m, t, u, y, z]</td>\n",
       "      <td>hmtuyz</td>\n",
       "      <td>hmtuyz</td>\n",
       "      <td>hmtuyz</td>\n",
       "    </tr>\n",
       "    <tr>\n",
       "      <th>235884</th>\n",
       "      <td>Zyzomys</td>\n",
       "      <td>zyzomys</td>\n",
       "      <td>7</td>\n",
       "      <td>z</td>\n",
       "      <td>mosyyzz</td>\n",
       "      <td>[m, o, s, y, y, z, z]</td>\n",
       "      <td>mosyyzz</td>\n",
       "      <td>mosyyzz</td>\n",
       "      <td>mosyyzz</td>\n",
       "    </tr>\n",
       "    <tr>\n",
       "      <th>235885</th>\n",
       "      <td>Zyzzogeton</td>\n",
       "      <td>zyzzogeton</td>\n",
       "      <td>10</td>\n",
       "      <td>z</td>\n",
       "      <td>egnootyzzz</td>\n",
       "      <td>[e, g, n, o, o, t, y, z, z, z]</td>\n",
       "      <td>egnootyzzz</td>\n",
       "      <td>egnootyzzz</td>\n",
       "      <td>egnootyzzz</td>\n",
       "    </tr>\n",
       "  </tbody>\n",
       "</table>\n",
       "</div>"
      ],
      "text/plain": [
       "              word       lcase  n_chars first_letter  word_group  \\\n",
       "235881      zythem      zythem        6            z      ehmtyz   \n",
       "235882      Zythia      zythia        6            z      ahityz   \n",
       "235883      zythum      zythum        6            z      hmtuyz   \n",
       "235884     Zyzomys     zyzomys        7            z     mosyyzz   \n",
       "235885  Zyzzogeton  zyzzogeton       10            z  egnootyzzz   \n",
       "\n",
       "                           sorted_word word_group_2 word_group_3 word_group_4  \n",
       "235881              [e, h, m, t, y, z]       ehmtyz       ehmtyz       ehmtyz  \n",
       "235882              [a, h, i, t, y, z]       ahityz       ahityz       ahityz  \n",
       "235883              [h, m, t, u, y, z]       hmtuyz       hmtuyz       hmtuyz  \n",
       "235884           [m, o, s, y, y, z, z]      mosyyzz      mosyyzz      mosyyzz  \n",
       "235885  [e, g, n, o, o, t, y, z, z, z]   egnootyzzz   egnootyzzz   egnootyzzz  "
      ]
     },
     "execution_count": 69,
     "metadata": {},
     "output_type": "execute_result"
    }
   ],
   "source": [
    "# and the tail\n",
    "word_df.tail()"
   ]
  },
  {
   "cell_type": "code",
   "execution_count": 70,
   "metadata": {},
   "outputs": [],
   "source": [
    "# do a simple group by and sort to count our values\n",
    "word_df['word_group_count'] = 1\n",
    "select_columns = ['n_chars', 'word_group', 'word_group_count']\n",
    "word_group_df = word_df[select_columns].groupby(select_columns[:-1]).agg(np.size)"
   ]
  },
  {
   "cell_type": "code",
   "execution_count": 71,
   "metadata": {},
   "outputs": [],
   "source": [
    "# reset the index    \n",
    "word_group_df = word_group_df.reset_index()  "
   ]
  },
  {
   "cell_type": "code",
   "execution_count": 72,
   "metadata": {},
   "outputs": [
    {
     "data": {
      "text/html": [
       "<div>\n",
       "<style scoped>\n",
       "    .dataframe tbody tr th:only-of-type {\n",
       "        vertical-align: middle;\n",
       "    }\n",
       "\n",
       "    .dataframe tbody tr th {\n",
       "        vertical-align: top;\n",
       "    }\n",
       "\n",
       "    .dataframe thead th {\n",
       "        text-align: right;\n",
       "    }\n",
       "</style>\n",
       "<table border=\"1\" class=\"dataframe\">\n",
       "  <thead>\n",
       "    <tr style=\"text-align: right;\">\n",
       "      <th></th>\n",
       "      <th>n_chars</th>\n",
       "      <th>word_group</th>\n",
       "      <th>word_group_count</th>\n",
       "    </tr>\n",
       "  </thead>\n",
       "  <tbody>\n",
       "    <tr>\n",
       "      <th>0</th>\n",
       "      <td>1</td>\n",
       "      <td>a</td>\n",
       "      <td>1</td>\n",
       "    </tr>\n",
       "    <tr>\n",
       "      <th>1</th>\n",
       "      <td>1</td>\n",
       "      <td>b</td>\n",
       "      <td>1</td>\n",
       "    </tr>\n",
       "    <tr>\n",
       "      <th>2</th>\n",
       "      <td>1</td>\n",
       "      <td>c</td>\n",
       "      <td>1</td>\n",
       "    </tr>\n",
       "    <tr>\n",
       "      <th>3</th>\n",
       "      <td>1</td>\n",
       "      <td>d</td>\n",
       "      <td>1</td>\n",
       "    </tr>\n",
       "    <tr>\n",
       "      <th>4</th>\n",
       "      <td>1</td>\n",
       "      <td>e</td>\n",
       "      <td>1</td>\n",
       "    </tr>\n",
       "  </tbody>\n",
       "</table>\n",
       "</div>"
      ],
      "text/plain": [
       "   n_chars word_group  word_group_count\n",
       "0        1          a                 1\n",
       "1        1          b                 1\n",
       "2        1          c                 1\n",
       "3        1          d                 1\n",
       "4        1          e                 1"
      ]
     },
     "execution_count": 72,
     "metadata": {},
     "output_type": "execute_result"
    }
   ],
   "source": [
    "word_group_df.head()"
   ]
  },
  {
   "cell_type": "code",
   "execution_count": 73,
   "metadata": {},
   "outputs": [
    {
     "data": {
      "text/html": [
       "<div>\n",
       "<style scoped>\n",
       "    .dataframe tbody tr th:only-of-type {\n",
       "        vertical-align: middle;\n",
       "    }\n",
       "\n",
       "    .dataframe tbody tr th {\n",
       "        vertical-align: top;\n",
       "    }\n",
       "\n",
       "    .dataframe thead th {\n",
       "        text-align: right;\n",
       "    }\n",
       "</style>\n",
       "<table border=\"1\" class=\"dataframe\">\n",
       "  <thead>\n",
       "    <tr style=\"text-align: right;\">\n",
       "      <th></th>\n",
       "      <th>n_chars</th>\n",
       "      <th>word_group</th>\n",
       "      <th>word_group_count</th>\n",
       "    </tr>\n",
       "  </thead>\n",
       "  <tbody>\n",
       "    <tr>\n",
       "      <th>215837</th>\n",
       "      <td>24</td>\n",
       "      <td>aacccgghhiillloooooppsty</td>\n",
       "      <td>1</td>\n",
       "    </tr>\n",
       "    <tr>\n",
       "      <th>215838</th>\n",
       "      <td>24</td>\n",
       "      <td>aacdeehhiimoooprrrtttyyz</td>\n",
       "      <td>1</td>\n",
       "    </tr>\n",
       "    <tr>\n",
       "      <th>215839</th>\n",
       "      <td>24</td>\n",
       "      <td>aaddeeefhhlllmooprstuxyy</td>\n",
       "      <td>1</td>\n",
       "    </tr>\n",
       "    <tr>\n",
       "      <th>215840</th>\n",
       "      <td>24</td>\n",
       "      <td>aadeeehhhiillnnooopprttt</td>\n",
       "      <td>1</td>\n",
       "    </tr>\n",
       "    <tr>\n",
       "      <th>215841</th>\n",
       "      <td>24</td>\n",
       "      <td>acccefhhiiiiillnoooppsst</td>\n",
       "      <td>1</td>\n",
       "    </tr>\n",
       "  </tbody>\n",
       "</table>\n",
       "</div>"
      ],
      "text/plain": [
       "        n_chars                word_group  word_group_count\n",
       "215837       24  aacccgghhiillloooooppsty                 1\n",
       "215838       24  aacdeehhiimoooprrrtttyyz                 1\n",
       "215839       24  aaddeeefhhlllmooprstuxyy                 1\n",
       "215840       24  aadeeehhhiillnnooopprttt                 1\n",
       "215841       24  acccefhhiiiiillnoooppsst                 1"
      ]
     },
     "execution_count": 73,
     "metadata": {},
     "output_type": "execute_result"
    }
   ],
   "source": [
    "word_group_df.tail()"
   ]
  },
  {
   "cell_type": "code",
   "execution_count": 74,
   "metadata": {},
   "outputs": [
    {
     "data": {
      "text/plain": [
       "215842"
      ]
     },
     "execution_count": 74,
     "metadata": {},
     "output_type": "execute_result"
    }
   ],
   "source": [
    "len(word_group_df)"
   ]
  },
  {
   "cell_type": "code",
   "execution_count": 75,
   "metadata": {},
   "outputs": [],
   "source": [
    "# select only values that occur more than once.\n",
    "# word_group_df = word_group_df.loc[word_group_df['word_group_count'] > 1, ]"
   ]
  },
  {
   "cell_type": "code",
   "execution_count": 76,
   "metadata": {},
   "outputs": [],
   "source": [
    "# very cool.\n",
    "# So now we pull out the unique word count values, query the df,\n",
    "# then write to disk."
   ]
  },
  {
   "cell_type": "code",
   "execution_count": 77,
   "metadata": {},
   "outputs": [],
   "source": [
    "n_char_list = word_group_df['n_chars'].unique().tolist()\n",
    "n_char_list.sort()"
   ]
  },
  {
   "cell_type": "code",
   "execution_count": 78,
   "metadata": {},
   "outputs": [
    {
     "data": {
      "text/plain": [
       "[1, 2, 3, 4, 5]"
      ]
     },
     "execution_count": 78,
     "metadata": {},
     "output_type": "execute_result"
    }
   ],
   "source": [
    "n_char_list[:5]"
   ]
  },
  {
   "cell_type": "code",
   "execution_count": 79,
   "metadata": {},
   "outputs": [],
   "source": [
    "# specify the proper line ending when using a csv writer.\n",
    "output_path = 'H:/git/anagrams'\n",
    "output_file = 'anagrams_found.txt'\n",
    "output_fpn = os.path.join(output_path, output_file)"
   ]
  },
  {
   "cell_type": "code",
   "execution_count": 80,
   "metadata": {},
   "outputs": [
    {
     "data": {
      "text/html": [
       "<div>\n",
       "<style scoped>\n",
       "    .dataframe tbody tr th:only-of-type {\n",
       "        vertical-align: middle;\n",
       "    }\n",
       "\n",
       "    .dataframe tbody tr th {\n",
       "        vertical-align: top;\n",
       "    }\n",
       "\n",
       "    .dataframe thead th {\n",
       "        text-align: right;\n",
       "    }\n",
       "</style>\n",
       "<table border=\"1\" class=\"dataframe\">\n",
       "  <thead>\n",
       "    <tr style=\"text-align: right;\">\n",
       "      <th></th>\n",
       "      <th>n_chars</th>\n",
       "      <th>word_group</th>\n",
       "      <th>word_group_count</th>\n",
       "    </tr>\n",
       "  </thead>\n",
       "  <tbody>\n",
       "    <tr>\n",
       "      <th>0</th>\n",
       "      <td>1</td>\n",
       "      <td>a</td>\n",
       "      <td>1</td>\n",
       "    </tr>\n",
       "    <tr>\n",
       "      <th>1</th>\n",
       "      <td>1</td>\n",
       "      <td>b</td>\n",
       "      <td>1</td>\n",
       "    </tr>\n",
       "    <tr>\n",
       "      <th>2</th>\n",
       "      <td>1</td>\n",
       "      <td>c</td>\n",
       "      <td>1</td>\n",
       "    </tr>\n",
       "    <tr>\n",
       "      <th>3</th>\n",
       "      <td>1</td>\n",
       "      <td>d</td>\n",
       "      <td>1</td>\n",
       "    </tr>\n",
       "    <tr>\n",
       "      <th>4</th>\n",
       "      <td>1</td>\n",
       "      <td>e</td>\n",
       "      <td>1</td>\n",
       "    </tr>\n",
       "  </tbody>\n",
       "</table>\n",
       "</div>"
      ],
      "text/plain": [
       "   n_chars word_group  word_group_count\n",
       "0        1          a                 1\n",
       "1        1          b                 1\n",
       "2        1          c                 1\n",
       "3        1          d                 1\n",
       "4        1          e                 1"
      ]
     },
     "execution_count": 80,
     "metadata": {},
     "output_type": "execute_result"
    }
   ],
   "source": [
    "word_group_df.head()"
   ]
  },
  {
   "cell_type": "code",
   "execution_count": 81,
   "metadata": {},
   "outputs": [
    {
     "name": "stdout",
     "output_type": "stream",
     "text": [
      "...found 26 unique word groups within 1 digit words.\n",
      "...found 99 unique word groups within 2 digit words.\n",
      "...found 845 unique word groups within 3 digit words.\n"
     ]
    }
   ],
   "source": [
    "s_time = time.time()\n",
    "# use the csv writer to write this to disk\n",
    "output_file = open(output_fpn, 'w', newline='')\n",
    "cw = csv.writer(output_file)    \n",
    "\n",
    "# intialize some counters\n",
    "n_anagram_groups = 0\n",
    "n_anagrams = 0\n",
    "\n",
    "# enumerate over the word counts\n",
    "for n_char in n_char_list[:3]:\n",
    "    curr_df = word_group_df.loc[word_group_df['n_chars']==n_char, ]    \n",
    "    # sort by the count\n",
    "    # curr_df = curr_df.sort_values(by='word_group_count')\n",
    "\n",
    "    # let's do some enumeration   \n",
    "    word_group_list = curr_df['word_group'].unique().tolist()\n",
    "    n_word_groups = len(word_group_list)\n",
    "\n",
    "    print('...found', '{:,}'.format(n_word_groups), 'unique word groups within', n_char, 'digit words.')\n",
    "    for i_wg, wg in enumerate(word_group_list):\n",
    "        # the current hash value corresponds to a group of anagrams.\n",
    "        # get that group of words as a list.\n",
    "        curr_word_list = word_df.loc[word_df['word_group'] == wg, 'lcase'].tolist()\n",
    "        # print(wg)\n",
    "        # print(curr_word_list)\n",
    "\n",
    "        cw.writerow(curr_word_list)\n",
    "        # increment the counters to find the total number of anagram groups\n",
    "        # and words\n",
    "        n_anagram_groups += 1\n",
    "        n_anagrams += len(curr_word_list)\n",
    "\n",
    "# close my file\n",
    "output_file.close()\n",
    "e_time = time.time()"
   ]
  },
  {
   "cell_type": "code",
   "execution_count": 82,
   "metadata": {},
   "outputs": [],
   "source": [
    "p_time = e_time - s_time"
   ]
  },
  {
   "cell_type": "code",
   "execution_count": 87,
   "metadata": {},
   "outputs": [
    {
     "name": "stdout",
     "output_type": "stream",
     "text": [
      "finding anagrams took 17.8 seconds...\n"
     ]
    }
   ],
   "source": [
    "print('...finding anagrams took', '{:,}'.format(round(p_time,1)), 'seconds...')"
   ]
  },
  {
   "cell_type": "code",
   "execution_count": 84,
   "metadata": {},
   "outputs": [
    {
     "name": "stdout",
     "output_type": "stream",
     "text": [
      "...found 970 anagram groups consisting of 1,459 words...\n"
     ]
    }
   ],
   "source": [
    "# how many anagram groups and anagrams did we find?\n",
    "n_anagram_groups = '{:,}'.format(n_anagram_groups)\n",
    "n_anagrams = '{:,}'.format(n_anagrams)\n",
    "print('...found', n_anagram_groups, 'anagram groups consisting of',\n",
    "      n_anagrams, 'words...')"
   ]
  }
 ],
 "metadata": {
  "kernelspec": {
   "display_name": "Python 3",
   "language": "python",
   "name": "python3"
  },
  "language_info": {
   "codemirror_mode": {
    "name": "ipython",
    "version": 3
   },
   "file_extension": ".py",
   "mimetype": "text/x-python",
   "name": "python",
   "nbconvert_exporter": "python",
   "pygments_lexer": "ipython3",
   "version": "3.7.6"
  }
 },
 "nbformat": 4,
 "nbformat_minor": 2
}
